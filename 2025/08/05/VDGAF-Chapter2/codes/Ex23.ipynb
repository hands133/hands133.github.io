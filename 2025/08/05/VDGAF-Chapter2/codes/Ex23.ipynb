{
 "cells": [
  {
   "cell_type": "code",
   "execution_count": 1,
   "metadata": {},
   "outputs": [],
   "source": [
    "import sympy\n",
    "sympy.init_printing()"
   ]
  },
  {
   "cell_type": "code",
   "execution_count": 2,
   "metadata": {},
   "outputs": [
    {
     "data": {
      "image/png": "[encoded data removed]",
      "text/latex": [
       "$\\displaystyle \\left( x_{0}, \\  y_{0}, \\  z_{0}, \\  k_{x}, \\  k_{y}, \\  k_{z}, \\  \\theta\\right)$"
      ],
      "text/plain": [
       "(x₀, y₀, z₀, kₓ, k_y, k_z, \\theta)"
      ]
     },
     "execution_count": 2,
     "metadata": {},
     "output_type": "execute_result"
    }
   ],
   "source": [
    "x0, y0, z0, kx, ky, kz, theta = sympy.symbols('x_0, y_0, z_0, k_x, k_y, k_z, \\\\theta')\n",
    "x0, y0, z0, kx, ky, kz, theta"
   ]
  },
  {
   "cell_type": "code",
   "execution_count": 6,
   "metadata": {},
   "outputs": [
    {
     "data": {
      "text/latex": [
       "$\\displaystyle \\left[\\begin{matrix}- k_{y}^{2} \\cdot \\left(1 - \\cos{\\left(\\theta \\right)}\\right) - k_{z}^{2} \\cdot \\left(1 - \\cos{\\left(\\theta \\right)}\\right) + 1 & k_{y} k_{z} \\left(1 - \\cos{\\left(\\theta \\right)}\\right) - k_{z} \\sin{\\left(\\theta \\right)} & k_{x} k_{z} \\left(1 - \\cos{\\left(\\theta \\right)}\\right) + k_{y} \\sin{\\left(\\theta \\right)} & - x_{0} \\left(- k_{y}^{2} \\cdot \\left(1 - \\cos{\\left(\\theta \\right)}\\right) - k_{z}^{2} \\cdot \\left(1 - \\cos{\\left(\\theta \\right)}\\right) + 1\\right) + x_{0} - y_{0} \\left(k_{y} k_{z} \\left(1 - \\cos{\\left(\\theta \\right)}\\right) - k_{z} \\sin{\\left(\\theta \\right)}\\right) - z_{0} \\left(k_{x} k_{z} \\left(1 - \\cos{\\left(\\theta \\right)}\\right) + k_{y} \\sin{\\left(\\theta \\right)}\\right)\\\\k_{x} k_{y} \\left(1 - \\cos{\\left(\\theta \\right)}\\right) + k_{z} \\sin{\\left(\\theta \\right)} & - k_{x} k_{z} \\left(1 - \\cos{\\left(\\theta \\right)}\\right) - k_{z}^{2} \\cdot \\left(1 - \\cos{\\left(\\theta \\right)}\\right) + 1 & - k_{x} \\sin{\\left(\\theta \\right)} + k_{y} k_{z} \\left(1 - \\cos{\\left(\\theta \\right)}\\right) & - x_{0} \\left(k_{x} k_{y} \\left(1 - \\cos{\\left(\\theta \\right)}\\right) + k_{z} \\sin{\\left(\\theta \\right)}\\right) - y_{0} \\left(- k_{x} k_{z} \\left(1 - \\cos{\\left(\\theta \\right)}\\right) - k_{z}^{2} \\cdot \\left(1 - \\cos{\\left(\\theta \\right)}\\right) + 1\\right) + y_{0} - z_{0} \\left(- k_{x} \\sin{\\left(\\theta \\right)} + k_{y} k_{z} \\left(1 - \\cos{\\left(\\theta \\right)}\\right)\\right)\\\\- k_{y} \\sin{\\left(\\theta \\right)} + k_{z}^{2} \\cdot \\left(1 - \\cos{\\left(\\theta \\right)}\\right) & k_{y} k_{z} \\left(1 - \\cos{\\left(\\theta \\right)}\\right) + k_{z} \\sin{\\left(\\theta \\right)} & - k_{x} k_{z} \\left(1 - \\cos{\\left(\\theta \\right)}\\right) - k_{y}^{2} \\cdot \\left(1 - \\cos{\\left(\\theta \\right)}\\right) + 1 & - x_{0} \\left(- k_{y} \\sin{\\left(\\theta \\right)} + k_{z}^{2} \\cdot \\left(1 - \\cos{\\left(\\theta \\right)}\\right)\\right) - y_{0} \\left(k_{y} k_{z} \\left(1 - \\cos{\\left(\\theta \\right)}\\right) + k_{z} \\sin{\\left(\\theta \\right)}\\right) - z_{0} \\left(- k_{x} k_{z} \\left(1 - \\cos{\\left(\\theta \\right)}\\right) - k_{y}^{2} \\cdot \\left(1 - \\cos{\\left(\\theta \\right)}\\right) + 1\\right) + z_{0}\\\\0 & 0 & 0 & 1\\end{matrix}\\right]$"
      ],
      "text/plain": [
       "⎡     2                        2                                              \n",
       "⎢- k_y ⋅(1 - cos(\\theta)) - k_z ⋅(1 - cos(\\theta)) + 1       k_y⋅k_z⋅(1 - cos(\n",
       "⎢                                                                             \n",
       "⎢                                                                             \n",
       "⎢     kₓ⋅k_y⋅(1 - cos(\\theta)) + k_z⋅sin(\\theta)        -kₓ⋅k_z⋅(1 - cos(\\thet\n",
       "⎢                                                                             \n",
       "⎢                            2                                                \n",
       "⎢      -k_y⋅sin(\\theta) + k_z ⋅(1 - cos(\\theta))             k_y⋅k_z⋅(1 - cos(\n",
       "⎢                                                                             \n",
       "⎣                          0                                                  \n",
       "\n",
       "                                                                              \n",
       "\\theta)) - k_z⋅sin(\\theta)              kₓ⋅k_z⋅(1 - cos(\\theta)) + k_y⋅sin(\\th\n",
       "                                                                              \n",
       "         2                                                                    \n",
       "a)) - k_z ⋅(1 - cos(\\theta)) + 1       -kₓ⋅sin(\\theta) + k_y⋅k_z⋅(1 - cos(\\the\n",
       "                                                                              \n",
       "                                                                 2            \n",
       "\\theta)) + k_z⋅sin(\\theta)        -kₓ⋅k_z⋅(1 - cos(\\theta)) - k_y ⋅(1 - cos(\\t\n",
       "                                                                              \n",
       "    0                                                       0                 \n",
       "\n",
       "                 ⎛     2                        2                      ⎞      \n",
       "eta)        - x₀⋅⎝- k_y ⋅(1 - cos(\\theta)) - k_z ⋅(1 - cos(\\theta)) + 1⎠ + x₀ \n",
       "                                                                              \n",
       "                                                                  ⎛           \n",
       "ta))        -x₀⋅(kₓ⋅k_y⋅(1 - cos(\\theta)) + k_z⋅sin(\\theta)) - y₀⋅⎝-kₓ⋅k_z⋅(1 \n",
       "                                                                              \n",
       "                 ⎛                      2                  ⎞                  \n",
       "heta)) + 1  - x₀⋅⎝-k_y⋅sin(\\theta) + k_z ⋅(1 - cos(\\theta))⎠ - y₀⋅(k_y⋅k_z⋅(1 \n",
       "                                                                              \n",
       "                                                                              \n",
       "\n",
       "                                                                              \n",
       "- y₀⋅(k_y⋅k_z⋅(1 - cos(\\theta)) - k_z⋅sin(\\theta)) - z₀⋅(kₓ⋅k_z⋅(1 - cos(\\thet\n",
       "                                                                              \n",
       "                    2                      ⎞                                  \n",
       "- cos(\\theta)) - k_z ⋅(1 - cos(\\theta)) + 1⎠ + y₀ - z₀⋅(-kₓ⋅sin(\\theta) + k_y⋅\n",
       "                                                                              \n",
       "                                       ⎛                               2      \n",
       "- cos(\\theta)) + k_z⋅sin(\\theta)) - z₀⋅⎝-kₓ⋅k_z⋅(1 - cos(\\theta)) - k_y ⋅(1 - \n",
       "                                                                              \n",
       "                1                                                             \n",
       "\n",
       "                      ⎤\n",
       "a)) + k_y⋅sin(\\theta))⎥\n",
       "                      ⎥\n",
       "                      ⎥\n",
       "k_z⋅(1 - cos(\\theta)))⎥\n",
       "                      ⎥\n",
       "                ⎞     ⎥\n",
       "cos(\\theta)) + 1⎠ + z₀⎥\n",
       "                      ⎥\n",
       "                      ⎦"
      ]
     },
     "execution_count": 6,
     "metadata": {},
     "output_type": "execute_result"
    }
   ],
   "source": [
    "I = sympy.Matrix([[1, 0, 0], [0, 1, 0], [0, 0, 1]])\n",
    "T = sympy.Matrix([[1, 0, 0, x0], [0, 1, 0, y0], [0, 0, 1, z0], [0, 0, 0, 1]])\n",
    "K = sympy.Matrix([[0, -kz, ky], [kz, 0, -kx], [-ky, kz, 0]])\n",
    "R = I + sympy.sin(theta) * K + (1 - sympy.cos(theta)) * K * K\n",
    "R = sympy.diag(R, 1)\n",
    "M = T * R * T**-1\n",
    "M"
   ]
  }
 ],
 "metadata": {
  "kernelspec": {
   "display_name": "Python 3",
   "language": "python",
   "name": "python3"
  },
  "language_info": {
   "codemirror_mode": {
    "name": "ipython",
    "version": 3
   },
   "file_extension": ".py",
   "mimetype": "text/x-python",
   "name": "python",
   "nbconvert_exporter": "python",
   "pygments_lexer": "ipython3",
   "version": "3.12.3"
  }
 },
 "nbformat": 4,
 "nbformat_minor": 2
}
