{
 "cells": [
  {
   "cell_type": "code",
   "execution_count": 1,
   "metadata": {},
   "outputs": [],
   "source": [
    "import sympy\n",
    "sympy.init_printing()"
   ]
  },
  {
   "cell_type": "code",
   "execution_count": 2,
   "metadata": {},
   "outputs": [
    {
     "data": {
      "text/latex": [
       "$\\displaystyle \\left( R, \\  r, \\  \\theta, \\  \\delta{r}, \\  \\delta{\\theta}\\right)$"
      ],
      "text/plain": [
       "(R, r, \\theta, \\delta{r}, \\delta{\\theta})"
      ]
     },
     "execution_count": 2,
     "metadata": {},
     "output_type": "execute_result"
    }
   ],
   "source": [
    "R, r, t, dr, dt = sympy.symbols('R, r, \\\\theta, \\\\delta{r}, \\\\delta{\\\\theta}')\n",
    "R, r, t, dr, dt"
   ]
  },
  {
   "cell_type": "code",
   "execution_count": 3,
   "metadata": {},
   "outputs": [],
   "source": [
    "import sympy\n",
    "sympy.init_printing()"
   ]
  },
  {
   "cell_type": "code",
   "execution_count": 4,
   "metadata": {},
   "outputs": [
    {
     "data": {
      "text/latex": [
       "$\\displaystyle \\left( R, \\  r, \\  \\theta, \\  \\delta{r}, \\  \\delta{\\theta}\\right)$"
      ],
      "text/plain": [
       "(R, r, \\theta, \\delta{r}, \\delta{\\theta})"
      ]
     },
     "execution_count": 4,
     "metadata": {},
     "output_type": "execute_result"
    }
   ],
   "source": [
    "R, r, t, dr, dt = sympy.symbols('R, r, \\\\theta, \\\\delta{r}, \\\\delta{\\\\theta}')\n",
    "R, r, t, dr, dt"
   ]
  },
  {
   "cell_type": "code",
   "execution_count": 33,
   "metadata": {},
   "outputs": [],
   "source": [
    "def genExpress(r, t, R):\n",
    "    exp = sympy.sqrt(1 + (r / R)**2)\n",
    "    rhat = 2 * R**2 * r / (R**2 + r**2)\n",
    "    return rhat * sympy.cos(t), rhat * sympy.sin(t), sympy.sqrt(R**2 - rhat**2)"
   ]
  },
  {
   "cell_type": "code",
   "execution_count": 34,
   "metadata": {},
   "outputs": [
    {
     "data": {
      "text/latex": [
       "$\\displaystyle \\left( \\frac{2 R^{2} r \\cos{\\left(\\theta \\right)}}{R^{2} + r^{2}}, \\  \\frac{2 R^{2} r \\sin{\\left(\\theta \\right)}}{R^{2} + r^{2}}, \\  \\sqrt{- \\frac{4 R^{4} r^{2}}{\\left(R^{2} + r^{2}\\right)^{2}} + R^{2}}, \\  \\frac{2 R^{2} \\left(\\delta{r} + r\\right) \\cos{\\left(\\theta \\right)}}{R^{2} + \\left(\\delta{r} + r\\right)^{2}}, \\  \\frac{2 R^{2} \\left(\\delta{r} + r\\right) \\sin{\\left(\\theta \\right)}}{R^{2} + \\left(\\delta{r} + r\\right)^{2}}, \\  \\sqrt{- \\frac{4 R^{4} \\left(\\delta{r} + r\\right)^{2}}{\\left(R^{2} + \\left(\\delta{r} + r\\right)^{2}\\right)^{2}} + R^{2}}, \\  \\frac{2 R^{2} \\left(\\delta{r} + r\\right) \\cos{\\left(\\delta{\\theta} + \\theta \\right)}}{R^{2} + \\left(\\delta{r} + r\\right)^{2}}, \\  \\frac{2 R^{2} \\left(\\delta{r} + r\\right) \\sin{\\left(\\delta{\\theta} + \\theta \\right)}}{R^{2} + \\left(\\delta{r} + r\\right)^{2}}, \\  \\sqrt{- \\frac{4 R^{4} \\left(\\delta{r} + r\\right)^{2}}{\\left(R^{2} + \\left(\\delta{r} + r\\right)^{2}\\right)^{2}} + R^{2}}\\right)$"
      ],
      "text/plain": [
       "⎛                                               ___________________           \n",
       "⎜   2                   2                      ╱       4  2             2     \n",
       "⎜2⋅R ⋅r⋅cos(\\theta)  2⋅R ⋅r⋅sin(\\theta)       ╱     4⋅R ⋅r       2   2⋅R ⋅(\\de\n",
       "⎜──────────────────, ──────────────────,     ╱   - ────────── + R  , ─────────\n",
       "⎜      2    2              2    2           ╱               2              2  \n",
       "⎜     R  + r              R  + r           ╱       ⎛ 2    2⎞              R  +\n",
       "⎝                                        ╲╱        ⎝R  + r ⎠                  \n",
       "\n",
       "                                                                  ____________\n",
       "                            2                                    ╱       4    \n",
       "lta{r} + r)⋅cos(\\theta)  2⋅R ⋅(\\delta{r} + r)⋅sin(\\theta)       ╱     4⋅R ⋅(\\d\n",
       "───────────────────────, ────────────────────────────────,     ╱   - ─────────\n",
       "                2              2                  2           ╱               \n",
       " (\\delta{r} + r)              R  + (\\delta{r} + r)           ╱       ⎛ 2      \n",
       "                                                           ╲╱        ⎝R  + (\\d\n",
       "\n",
       "_____________________                                                         \n",
       "            2             2                                                  2\n",
       "elta{r} + r)       2   2⋅R ⋅(\\delta{r} + r)⋅cos(\\delta{\\theta} + \\theta)  2⋅R \n",
       "─────────────── + R  , ─────────────────────────────────────────────────, ────\n",
       "              2                       2                  2                    \n",
       "            2⎞                       R  + (\\delta{r} + r)                     \n",
       "elta{r} + r) ⎠                                                                \n",
       "\n",
       "                                                      ________________________\n",
       "                                                     ╱       4                \n",
       "⋅(\\delta{r} + r)⋅sin(\\delta{\\theta} + \\theta)       ╱     4⋅R ⋅(\\delta{r} + r)\n",
       "─────────────────────────────────────────────,     ╱   - ─────────────────────\n",
       "           2                  2                   ╱                           \n",
       "          R  + (\\delta{r} + r)                   ╱       ⎛ 2                  \n",
       "                                               ╲╱        ⎝R  + (\\delta{r} + r)\n",
       "\n",
       "_________⎞\n",
       "2        ⎟\n",
       "       2 ⎟\n",
       "─── + R  ⎟\n",
       "  2      ⎟\n",
       "2⎞       ⎟\n",
       " ⎠       ⎠"
      ]
     },
     "execution_count": 34,
     "metadata": {},
     "output_type": "execute_result"
    }
   ],
   "source": [
    "x1, y1, z1 = genExpress(r, t, R)\n",
    "x2, y2, z2 = genExpress(r + dr, t, R)\n",
    "x3, y3, z3 = genExpress(r + dr, t + dt, R)\n",
    "x1, y1, z1, x2, y2, z2, x3, y3, z3"
   ]
  },
  {
   "cell_type": "code",
   "execution_count": 35,
   "metadata": {},
   "outputs": [
    {
     "data": {
      "text/latex": [
       "$\\displaystyle \\left(- \\frac{2 R^{2} r \\sin{\\left(\\theta \\right)}}{R^{2} + r^{2}} + \\frac{2 R^{2} \\left(\\delta{r} + r\\right) \\sin{\\left(\\theta \\right)}}{R^{2} + \\left(\\delta{r} + r\\right)^{2}}\\right)^{2} + \\left(- \\frac{2 R^{2} r \\cos{\\left(\\theta \\right)}}{R^{2} + r^{2}} + \\frac{2 R^{2} \\left(\\delta{r} + r\\right) \\cos{\\left(\\theta \\right)}}{R^{2} + \\left(\\delta{r} + r\\right)^{2}}\\right)^{2} + \\left(- \\sqrt{- \\frac{4 R^{4} r^{2}}{\\left(R^{2} + r^{2}\\right)^{2}} + R^{2}} + \\sqrt{- \\frac{4 R^{4} \\left(\\delta{r} + r\\right)^{2}}{\\left(R^{2} + \\left(\\delta{r} + r\\right)^{2}\\right)^{2}} + R^{2}}\\right)^{2}$"
      ],
      "text/plain": [
       "                                                                              \n",
       "                                                         2                    \n",
       "⎛     2                    2                            ⎞    ⎛     2          \n",
       "⎜  2⋅R ⋅r⋅sin(\\theta)   2⋅R ⋅(\\delta{r} + r)⋅sin(\\theta)⎟    ⎜  2⋅R ⋅r⋅cos(\\th\n",
       "⎜- ────────────────── + ────────────────────────────────⎟  + ⎜- ──────────────\n",
       "⎜        2    2               2                  2      ⎟    ⎜        2    2  \n",
       "⎝       R  + r               R  + (\\delta{r} + r)       ⎠    ⎝       R  + r   \n",
       "                                                                              \n",
       "\n",
       "                                                                              \n",
       "                                        2   ⎛         ___________________     \n",
       "          2                            ⎞    ⎜        ╱       4  2             \n",
       "eta)   2⋅R ⋅(\\delta{r} + r)⋅cos(\\theta)⎟    ⎜       ╱     4⋅R ⋅r       2      \n",
       "──── + ────────────────────────────────⎟  + ⎜-     ╱   - ────────── + R   +   \n",
       "             2                  2      ⎟    ⎜     ╱               2           \n",
       "            R  + (\\delta{r} + r)       ⎠    ⎜    ╱       ⎛ 2    2⎞            \n",
       "                                            ⎝  ╲╱        ⎝R  + r ⎠          ╲╱\n",
       "\n",
       "                                       2\n",
       "     _________________________________⎞ \n",
       "    ╱       4                2        ⎟ \n",
       "   ╱     4⋅R ⋅(\\delta{r} + r)       2 ⎟ \n",
       "  ╱   - ──────────────────────── + R  ⎟ \n",
       " ╱                             2      ⎟ \n",
       "╱       ⎛ 2                  2⎞       ⎟ \n",
       "        ⎝R  + (\\delta{r} + r) ⎠       ⎠ "
      ]
     },
     "execution_count": 35,
     "metadata": {},
     "output_type": "execute_result"
    }
   ],
   "source": [
    "ds2 = (x3 - x1)**2 + (y3 - y1)**2 + (z3 - z1)**2\n",
    "ds1_2 = (x2 - x1)**2 + (y2 - y1)**2 + (z2 - z1)**2\n",
    "ds2_2 = (x3 - x2)**2 + (y3 - y2)**2 + (z3 - z2)**2\n",
    "# E = ds1_2.expand() + ds2_2.expand() - ds2.expand()\n",
    "# E\n",
    "ds1_2"
   ]
  },
  {
   "cell_type": "code",
   "execution_count": 36,
   "metadata": {},
   "outputs": [],
   "source": [
    "def Taylor_polynomial_sympy(function_expression, variable_list, evaluation_point, degree):\n",
    "    \"\"\"\n",
    "    Mathematical formulation reference:\n",
    "    https://math.libretexts.org/Bookshelves/Calculus/Supplemental_Modules_(Calculus)/Multivariable_Calculus/3%3A_Topics_in_Partial_Derivatives/Taylor__Polynomials_of_Functions_of_Two_Variables\n",
    "    :param function_expression: Sympy expression of the function\n",
    "    :param variable_list: list. All variables to be approximated (to be \"Taylorized\")\n",
    "    :param evaluation_point: list. Coordinates, where the function will be expressed\n",
    "    :param degree: int. Total degree of the Taylor polynomial\n",
    "    :return: Returns a Sympy expression of the Taylor series up to a given degree, of a given multivariate expression, approximated as a multivariate polynomial evaluated at the evaluation_point\n",
    "    \"\"\"\n",
    "    from sympy import factorial, Matrix, prod\n",
    "    import itertools\n",
    "\n",
    "    n_var = len(variable_list)\n",
    "    point_coordinates = [(i, j) for i, j in (zip(variable_list, evaluation_point))]  # list of tuples with variables and their evaluation_point coordinates, to later perform substitution\n",
    "\n",
    "    deriv_orders = list(itertools.product(range(degree + 1), repeat=n_var))  # list with exponentials of the partial derivatives\n",
    "    deriv_orders = [deriv_orders[i] for i in range(len(deriv_orders)) if sum(deriv_orders[i]) <= degree]  # Discarding some higher-order terms\n",
    "    n_terms = len(deriv_orders)\n",
    "    deriv_orders_as_input = [list(sum(list(zip(variable_list, deriv_orders[i])), ())) for i in range(n_terms)]  # Individual degree of each partial derivative, of each term\n",
    "\n",
    "    polynomial = 0\n",
    "    for i in range(n_terms):\n",
    "        partial_derivatives_at_point = function_expression.diff(*deriv_orders_as_input[i]).subs(point_coordinates)  # e.g. df/(dx*dy**2)\n",
    "        denominator = prod([factorial(j) for j in deriv_orders[i]])  # e.g. (1! * 2!)\n",
    "        distances_powered = prod([(Matrix(variable_list) - Matrix(evaluation_point))[j] ** deriv_orders[i][j] for j in range(n_var)])  # e.g. (x-x0)*(y-y0)**2\n",
    "        polynomial += partial_derivatives_at_point / denominator * distances_powered\n",
    "    return polynomial"
   ]
  },
  {
   "cell_type": "code",
   "execution_count": 38,
   "metadata": {},
   "outputs": [
    {
     "data": {
      "text/latex": [
       "$\\displaystyle \\frac{4 R^{4} \\delta{r}^{2}}{R^{4} + 2 R^{2} r^{2} + r^{4}}$"
      ],
      "text/plain": [
       "    4          2 \n",
       " 4⋅R ⋅\\delta{r}  \n",
       "─────────────────\n",
       " 4      2  2    4\n",
       "R  + 2⋅R ⋅r  + r "
      ]
     },
     "execution_count": 38,
     "metadata": {},
     "output_type": "execute_result"
    }
   ],
   "source": [
    "deg = 2\n",
    "ll = Taylor_polynomial_sympy(function_expression=ds1_2.expand(), # 计算 ds^2\n",
    "                             variable_list=[dr, dt],\n",
    "                             evaluation_point=[0, 0],\n",
    "                             degree=deg)\n",
    "ll.simplify()"
   ]
  }
 ],
 "metadata": {
  "kernelspec": {
   "display_name": "Python 3",
   "language": "python",
   "name": "python3"
  },
  "language_info": {
   "codemirror_mode": {
    "name": "ipython",
    "version": 3
   },
   "file_extension": ".py",
   "mimetype": "text/x-python",
   "name": "python",
   "nbconvert_exporter": "python",
   "pygments_lexer": "ipython3",
   "version": "3.12.3"
  }
 },
 "nbformat": 4,
 "nbformat_minor": 2
}
