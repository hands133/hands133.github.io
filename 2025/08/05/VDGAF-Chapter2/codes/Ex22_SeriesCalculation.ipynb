{
 "cells": [
  {
   "cell_type": "code",
   "execution_count": 1,
   "metadata": {},
   "outputs": [],
   "source": [
    "import sympy\n",
    "sympy.init_printing()"
   ]
  },
  {
   "cell_type": "code",
   "execution_count": 2,
   "metadata": {},
   "outputs": [
    {
     "data": {
      "text/latex": [
       "$\\displaystyle \\left( t, \\  c_{y1}, \\  c_{y2}, \\  c_{x}, \\  t_{0}\\right)$"
      ],
      "text/plain": [
       "(t, c_{y1}, c_{y2}, cₓ, t₀)"
      ]
     },
     "execution_count": 2,
     "metadata": {},
     "output_type": "execute_result"
    }
   ],
   "source": [
    "t, cy1, cy2, cx, t0 = sympy.symbols('t, c_{y1}, c_{y2}, c_x, t_0')\n",
    "t, cy1, cy2, cx, t0"
   ]
  },
  {
   "cell_type": "code",
   "execution_count": 3,
   "metadata": {},
   "outputs": [
    {
     "data": {
      "text/latex": [
       "$\\displaystyle \\frac{c_{y1} c_{y2} t - c_{y2}^{2} + 1}{\\sqrt{1 - c_{y2}^{2}}}$"
      ],
      "text/plain": [
       "                        2    \n",
       "c_{y1}⋅c_{y2}⋅t - c_{y2}  + 1\n",
       "─────────────────────────────\n",
       "          _____________      \n",
       "         ╱           2       \n",
       "       ╲╱  1 - c_{y2}        "
      ]
     },
     "execution_count": 3,
     "metadata": {},
     "output_type": "execute_result"
    }
   ],
   "source": [
    "y = cy1 * sympy.cos(t) + cy2 * sympy.sin(t)\n",
    "deg = 2\n",
    "dx = sympy.sqrt(1 - (y.diff(t))**2).series(t,0,deg).removeO()\n",
    "dx.simplify()"
   ]
  },
  {
   "cell_type": "code",
   "execution_count": 4,
   "metadata": {},
   "outputs": [
    {
     "data": {
      "text/latex": [
       "$\\displaystyle - \\frac{c_{y1} c_{y2} t^{2} \\sqrt{1 - c_{y2}^{2}}}{2 c_{y2}^{2} - 2} + t \\sqrt{1 - c_{y2}^{2}}$"
      ],
      "text/plain": [
       "                      _____________                     \n",
       "                 2   ╱           2         _____________\n",
       "  c_{y1}⋅c_{y2}⋅t ⋅╲╱  1 - c_{y2}         ╱           2 \n",
       "- ───────────────────────────────── + t⋅╲╱  1 - c_{y2}  \n",
       "                    2                                   \n",
       "            2⋅c_{y2}  - 2                               "
      ]
     },
     "execution_count": 4,
     "metadata": {},
     "output_type": "execute_result"
    }
   ],
   "source": [
    "x = dx.integrate(t)\n",
    "x"
   ]
  },
  {
   "cell_type": "code",
   "execution_count": 5,
   "metadata": {},
   "outputs": [
    {
     "data": {
      "text/latex": [
       "$\\displaystyle \\sqrt{- c_{y1}^{2} + 2 c_{y1} c_{y2} - c_{y2}^{2} + 1}$"
      ],
      "text/plain": [
       "   ___________________________________________\n",
       "  ╱         2                           2     \n",
       "╲╱  - c_{y1}  + 2⋅c_{y1}⋅c_{y2} - c_{y2}  + 1 "
      ]
     },
     "execution_count": 5,
     "metadata": {},
     "output_type": "execute_result"
    }
   ],
   "source": [
    "y = cy1 * sympy.exp(t) + cy2 * sympy.exp(-t)\n",
    "deg = 2\n",
    "dx = sympy.sqrt(1 - (y.diff(t))**2).series(t,0,deg).removeO()\n",
    "dx.simplify()"
   ]
  },
  {
   "cell_type": "code",
   "execution_count": 6,
   "metadata": {},
   "outputs": [
    {
     "data": {
      "text/latex": [
       "$\\displaystyle t \\sqrt{- c_{y1}^{2} + 2 c_{y1} c_{y2} - c_{y2}^{2} + 1} \\left(- \\frac{c_{y1}^{2}}{2 \\left(c_{y1}^{2} - 2 c_{y1} c_{y2} + c_{y2}^{2} - 1\\right)} + \\frac{c_{y1} c_{y2}}{c_{y1}^{2} - 2 c_{y1} c_{y2} + c_{y2}^{2} - 1} - \\frac{c_{y2}^{2}}{2 \\left(c_{y1}^{2} - 2 c_{y1} c_{y2} + c_{y2}^{2} - 1\\right)} + \\frac{\\left(c_{y1} - c_{y2}\\right)^{2}}{2 \\left(c_{y1}^{2} - 2 c_{y1} c_{y2} + c_{y2}^{2} - 1\\right)} + 1\\right)$"
      ],
      "text/plain": [
       "     ___________________________________________ ⎛                          2 \n",
       "    ╱         2                           2      ⎜                    c_{y1}  \n",
       "t⋅╲╱  - c_{y1}  + 2⋅c_{y1}⋅c_{y2} - c_{y2}  + 1 ⋅⎜- ──────────────────────────\n",
       "                                                 ⎜    ⎛      2                \n",
       "                                                 ⎝  2⋅⎝c_{y1}  - 2⋅c_{y1}⋅c_{y\n",
       "\n",
       "                                                                              \n",
       "                                 c_{y1}⋅c_{y2}                                \n",
       "───────────────── + ─────────────────────────────────────── - ────────────────\n",
       "           2    ⎞         2                           2         ⎛      2      \n",
       "2} + c_{y2}  - 1⎠   c_{y1}  - 2⋅c_{y1}⋅c_{y2} + c_{y2}  - 1   2⋅⎝c_{y1}  - 2⋅c\n",
       "\n",
       "        2                                                   2                ⎞\n",
       "  c_{y2}                                   (c_{y1} - c_{y2})                 ⎟\n",
       "─────────────────────────── + ─────────────────────────────────────────── + 1⎟\n",
       "                     2    ⎞     ⎛      2                           2    ⎞    ⎟\n",
       "_{y1}⋅c_{y2} + c_{y2}  - 1⎠   2⋅⎝c_{y1}  - 2⋅c_{y1}⋅c_{y2} + c_{y2}  - 1⎠    ⎠"
      ]
     },
     "execution_count": 6,
     "metadata": {},
     "output_type": "execute_result"
    }
   ],
   "source": [
    "x = dx.integrate(t)\n",
    "x"
   ]
  }
 ],
 "metadata": {
  "kernelspec": {
   "display_name": "Python 3",
   "language": "python",
   "name": "python3"
  },
  "language_info": {
   "codemirror_mode": {
    "name": "ipython",
    "version": 3
   },
   "file_extension": ".py",
   "mimetype": "text/x-python",
   "name": "python",
   "nbconvert_exporter": "python",
   "pygments_lexer": "ipython3",
   "version": "3.12.3"
  }
 },
 "nbformat": 4,
 "nbformat_minor": 2
}
