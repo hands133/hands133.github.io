{
 "cells": [
  {
   "cell_type": "code",
   "execution_count": 1,
   "metadata": {},
   "outputs": [],
   "source": [
    "import sympy\n",
    "sympy.init_printing()"
   ]
  },
  {
   "cell_type": "code",
   "execution_count": 2,
   "metadata": {},
   "outputs": [
    {
     "data": {
      "image/png": "[encoded data removed]",
      "text/latex": [
       "$\\displaystyle \\left( X, \\  Y, \\  Z, \\  i, \\  a_{x}, \\  a_{y}, \\  b_{x}, \\  b_{y}, \\  c_{x}, \\  c_{y}, \\  d_{x}, \\  d_{y}\\right)$"
      ],
      "text/plain": [
       "(X, Y, Z, ⅈ, aₓ, a_y, bₓ, b_y, cₓ, c_y, dₓ, d_y)"
      ]
     },
     "execution_count": 2,
     "metadata": {},
     "output_type": "execute_result"
    }
   ],
   "source": [
    "X, Y, Z = sympy.symbols('X, Y, Z')\n",
    "ax, ay, bx, by, cx, cy, dx, dy = sympy.symbols('a_x, a_y, b_x, b_y, c_x, c_y, d_x, d_y')\n",
    "i = sympy.I\n",
    "X, Y, Z, i, ax, ay, bx, by, cx, cy, dx, dy"
   ]
  },
  {
   "cell_type": "code",
   "execution_count": 3,
   "metadata": {},
   "outputs": [
    {
     "data": {
      "image/png": "[encoded data removed]",
      "text/latex": [
       "$\\displaystyle \\frac{X + i Y}{1 - Z}$"
      ],
      "text/plain": [
       "X + ⅈ⋅Y\n",
       "───────\n",
       " 1 - Z "
      ]
     },
     "execution_count": 3,
     "metadata": {},
     "output_type": "execute_result"
    }
   ],
   "source": [
    "z = (X + i * Y) / (1 - Z)\n",
    "z"
   ]
  },
  {
   "cell_type": "code",
   "execution_count": 4,
   "metadata": {},
   "outputs": [
    {
     "data": {
      "image/png": "[encoded data removed]",
      "text/latex": [
       "$\\displaystyle \\frac{i + \\frac{X + i Y}{1 - Z}}{1 + \\frac{i \\left(X + i Y\\right)}{1 - Z}}$"
      ],
      "text/plain": [
       "      X + ⅈ⋅Y  \n",
       "  ⅈ + ───────  \n",
       "       1 - Z   \n",
       "───────────────\n",
       "    ⅈ⋅(X + ⅈ⋅Y)\n",
       "1 + ───────────\n",
       "       1 - Z   "
      ]
     },
     "execution_count": 4,
     "metadata": {},
     "output_type": "execute_result"
    }
   ],
   "source": [
    "z_t_exp = (z + i) / (i * z + 1)\n",
    "# z_t_exp = ((ax + i * ay) * z + (bx + i * by)) / ((cx + i * cy) * z + (dx + i * dy))\n",
    "z_t_exp.simplify()\n",
    "\n",
    "z_t = (X - i * Z) / (1 - Y)\n",
    "z_t\n",
    "\n",
    "z_t_exp"
   ]
  },
  {
   "cell_type": "code",
   "execution_count": 29,
   "metadata": {},
   "outputs": [
    {
     "data": {
      "image/png": "[encoded data removed]",
      "text/latex": [
       "$\\displaystyle \\frac{- i X + Y - Z + 1}{X + i Y + i Z - i}$"
      ],
      "text/plain": [
       " -ⅈ⋅X + Y - Z + 1\n",
       "─────────────────\n",
       "X + ⅈ⋅Y + ⅈ⋅Z - ⅈ"
      ]
     },
     "execution_count": 29,
     "metadata": {},
     "output_type": "execute_result"
    }
   ],
   "source": [
    "tmpXX = z_t_exp * (X - i * Z)\n",
    "tmpXX.expand().simplify()\n",
    "tmpXX = tmpXX / (X - i * Z)\n",
    "tmpXX.expand().simplify()"
   ]
  },
  {
   "cell_type": "code",
   "execution_count": 5,
   "metadata": {},
   "outputs": [],
   "source": [
    "t1 = (z_t_exp - z_t)\n",
    "t2 = t1.expand()\n",
    "t3 = t2.simplify()"
   ]
  },
  {
   "cell_type": "code",
   "execution_count": 15,
   "metadata": {},
   "outputs": [
    {
     "data": {
      "image/png": "[encoded data removed]",
      "text/latex": [
       "$\\displaystyle \\left( \\frac{i + \\frac{X + i Y}{1 - Z}}{1 + \\frac{i \\left(X + i Y\\right)}{1 - Z}} - \\frac{X - i Z}{1 - Y}, \\  \\frac{X^{2} + Y^{2} + Z^{2} - 1}{X Y - X + i Y^{2} + i Y Z - 2 i Y - i Z + i}\\right)$"
      ],
      "text/plain": [
       "⎛      X + ⅈ⋅Y                                                      ⎞\n",
       "⎜  ⅈ + ───────                           2    2    2                ⎟\n",
       "⎜       1 - Z      X - ⅈ⋅Z              X  + Y  + Z  - 1            ⎟\n",
       "⎜─────────────── - ───────, ────────────────────────────────────────⎟\n",
       "⎜    ⅈ⋅(X + ⅈ⋅Y)    1 - Y                2                          ⎟\n",
       "⎜1 + ───────────            X⋅Y - X + ⅈ⋅Y  + ⅈ⋅Y⋅Z - 2⋅ⅈ⋅Y - ⅈ⋅Z + ⅈ⎟\n",
       "⎝       1 - Z                                                       ⎠"
      ]
     },
     "execution_count": 15,
     "metadata": {},
     "output_type": "execute_result"
    }
   ],
   "source": [
    "t1, t3"
   ]
  },
  {
   "cell_type": "code",
   "execution_count": 16,
   "metadata": {},
   "outputs": [
    {
     "data": {
      "image/png": "[encoded data removed]",
      "text/latex": [
       "$\\displaystyle \\frac{X}{- \\frac{i X Z}{1 - Z} + \\frac{i X}{1 - Z} + \\frac{Y Z}{1 - Z} - \\frac{Y}{1 - Z} - Z + 1} - \\frac{X}{1 - Y} + \\frac{i Y}{- \\frac{i X Z}{1 - Z} + \\frac{i X}{1 - Z} + \\frac{Y Z}{1 - Z} - \\frac{Y}{1 - Z} - Z + 1} + \\frac{i Z}{1 - Y} + \\frac{i}{\\frac{i X}{1 - Z} - \\frac{Y}{1 - Z} + 1}$"
      ],
      "text/plain": [
       "                   X                        X                       ⅈ⋅Y       \n",
       "─────────────────────────────────────── - ───── + ────────────────────────────\n",
       "  ⅈ⋅X⋅Z    ⅈ⋅X     Y⋅Z      Y             1 - Y     ⅈ⋅X⋅Z    ⅈ⋅X     Y⋅Z      \n",
       "- ───── + ───── + ───── - ───── - Z + 1           - ───── + ───── + ───── - ──\n",
       "  1 - Z   1 - Z   1 - Z   1 - Z                     1 - Z   1 - Z   1 - Z   1 \n",
       "\n",
       "               ⅈ⋅Z            ⅈ        \n",
       "─────────── + ───── + ─────────────────\n",
       "Y             1 - Y    ⅈ⋅X      Y      \n",
       "─── - Z + 1           ───── - ───── + 1\n",
       "- Z                   1 - Z   1 - Z    "
      ]
     },
     "execution_count": 16,
     "metadata": {},
     "output_type": "execute_result"
    }
   ],
   "source": [
    "t2"
   ]
  },
  {
   "cell_type": "code",
   "execution_count": 14,
   "metadata": {},
   "outputs": [
    {
     "data": {
      "image/png": "[encoded data removed]",
      "text/latex": [
       "$\\displaystyle i X^{2} - 2 X Y + 2 X - i Y^{2} + 2 i Y Z + i Z^{2} - 2 i Z + i$"
      ],
      "text/plain": [
       "   2                    2                2            \n",
       "ⅈ⋅X  - 2⋅X⋅Y + 2⋅X - ⅈ⋅Y  + 2⋅ⅈ⋅Y⋅Z + ⅈ⋅Z  - 2⋅ⅈ⋅Z + ⅈ"
      ]
     },
     "execution_count": 14,
     "metadata": {},
     "output_type": "execute_result"
    }
   ],
   "source": [
    "tmp1 = X + i * Y + i * (1 - Z)\n",
    "tmp2 = i * (X + i * Y) + 1 - Z\n",
    "tmp3 = tmp1 * (1 - Y) + tmp2 * (X - i * Z)\n",
    "tmp3.expand()\n",
    "tmp3.expand().simplify()"
   ]
  },
  {
   "cell_type": "code",
   "execution_count": 21,
   "metadata": {},
   "outputs": [
    {
     "data": {
      "image/png": "[encoded data removed]",
      "text/latex": [
       "$\\displaystyle \\frac{i X^{2} - 2 X Y + 2 X - i Y^{2} + 2 i Y Z + i Z^{2} - 2 i Z + i}{Y Z - Y - Z + 1}$"
      ],
      "text/plain": [
       "   2                    2                2            \n",
       "ⅈ⋅X  - 2⋅X⋅Y + 2⋅X - ⅈ⋅Y  + 2⋅ⅈ⋅Y⋅Z + ⅈ⋅Z  - 2⋅ⅈ⋅Z + ⅈ\n",
       "──────────────────────────────────────────────────────\n",
       "                   Y⋅Z - Y - Z + 1                    "
      ]
     },
     "execution_count": 21,
     "metadata": {},
     "output_type": "execute_result"
    }
   ],
   "source": [
    "tmp4 = tmp3 / (1 - Z) / (1 - Y)\n",
    "tmp4.expand().simplify()"
   ]
  },
  {
   "cell_type": "code",
   "execution_count": 22,
   "metadata": {},
   "outputs": [],
   "source": [
    "tmpO = (i * (X + i * Y) + (1 - Z)) * (1 - Y)"
   ]
  },
  {
   "cell_type": "code",
   "execution_count": 23,
   "metadata": {},
   "outputs": [
    {
     "data": {
      "image/png": "[encoded data removed]",
      "text/latex": [
       "$\\displaystyle - i X Y + i X + Y^{2} + Y Z - 2 Y - Z + 1$"
      ],
      "text/plain": [
       "                2                    \n",
       "-ⅈ⋅X⋅Y + ⅈ⋅X + Y  + Y⋅Z - 2⋅Y - Z + 1"
      ]
     },
     "execution_count": 23,
     "metadata": {},
     "output_type": "execute_result"
    }
   ],
   "source": [
    "tmpO.expand().simplify()"
   ]
  }
 ],
 "metadata": {
  "kernelspec": {
   "display_name": "Python 3",
   "language": "python",
   "name": "python3"
  },
  "language_info": {
   "codemirror_mode": {
    "name": "ipython",
    "version": 3
   },
   "file_extension": ".py",
   "mimetype": "text/x-python",
   "name": "python",
   "nbconvert_exporter": "python",
   "pygments_lexer": "ipython3",
   "version": "3.12.3"
  }
 },
 "nbformat": 4,
 "nbformat_minor": 2
}
