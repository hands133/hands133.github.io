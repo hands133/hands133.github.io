{
 "cells": [
  {
   "cell_type": "code",
   "execution_count": 9,
   "metadata": {},
   "outputs": [],
   "source": [
    "import sympy\n",
    "sympy.init_printing()"
   ]
  },
  {
   "cell_type": "code",
   "execution_count": 12,
   "metadata": {},
   "outputs": [
    {
     "data": {
      "text/latex": [
       "$\\displaystyle \\left( t, \\  \\delta{t}\\right)$"
      ],
      "text/plain": [
       "(t, \\delta{t})"
      ]
     },
     "execution_count": 12,
     "metadata": {},
     "output_type": "execute_result"
    }
   ],
   "source": [
    "t, dt = sympy.symbols('t, \\\\delta{t}')\n",
    "t, dt"
   ]
  },
  {
   "cell_type": "code",
   "execution_count": 17,
   "metadata": {},
   "outputs": [
    {
     "data": {
      "text/latex": [
       "$\\displaystyle \\delta{t}^{2} + 2 \\delta{t} \\tanh{\\left(t \\right)} - 2 \\delta{t} \\tanh{\\left(\\delta{t} + t \\right)} + \\tanh^{2}{\\left(t \\right)} - 2 \\tanh{\\left(t \\right)} \\tanh{\\left(\\delta{t} + t \\right)} + \\tanh^{2}{\\left(\\delta{t} + t \\right)} + \\operatorname{sech}^{2}{\\left(t \\right)} - 2 \\operatorname{sech}{\\left(t \\right)} \\operatorname{sech}{\\left(\\delta{t} + t \\right)} + \\operatorname{sech}^{2}{\\left(\\delta{t} + t \\right)}$"
      ],
      "text/plain": [
       "         2                                                               2    \n",
       "\\delta{t}  + 2⋅\\delta{t}⋅tanh(t) - 2⋅\\delta{t}⋅tanh(\\delta{t} + t) + tanh (t) \n",
       "\n",
       "                                      2                      2                \n",
       "- 2⋅tanh(t)⋅tanh(\\delta{t} + t) + tanh (\\delta{t} + t) + sech (t) - 2⋅sech(t)⋅\n",
       "\n",
       "                          2               \n",
       "sech(\\delta{t} + t) + sech (\\delta{t} + t)"
      ]
     },
     "execution_count": 17,
     "metadata": {},
     "output_type": "execute_result"
    }
   ],
   "source": [
    "ds1 = sympy.sech(t + dt) - sympy.sech(t)\n",
    "ds2 = ((t + dt) - sympy.tanh(t + dt)) - (t - sympy.tanh(t))\n",
    "ds1, ds2\n",
    "ds = ds1**2 + ds2**2\n",
    "ds.expand()"
   ]
  },
  {
   "cell_type": "code",
   "execution_count": 15,
   "metadata": {},
   "outputs": [],
   "source": [
    "def Taylor_polynomial_sympy(function_expression, variable_list, evaluation_point, degree):\n",
    "    \"\"\"\n",
    "    Mathematical formulation reference:\n",
    "    https://math.libretexts.org/Bookshelves/Calculus/Supplemental_Modules_(Calculus)/Multivariable_Calculus/3%3A_Topics_in_Partial_Derivatives/Taylor__Polynomials_of_Functions_of_Two_Variables\n",
    "    :param function_expression: Sympy expression of the function\n",
    "    :param variable_list: list. All variables to be approximated (to be \"Taylorized\")\n",
    "    :param evaluation_point: list. Coordinates, where the function will be expressed\n",
    "    :param degree: int. Total degree of the Taylor polynomial\n",
    "    :return: Returns a Sympy expression of the Taylor series up to a given degree, of a given multivariate expression, approximated as a multivariate polynomial evaluated at the evaluation_point\n",
    "    \"\"\"\n",
    "    from sympy import factorial, Matrix, prod\n",
    "    import itertools\n",
    "\n",
    "    n_var = len(variable_list)\n",
    "    point_coordinates = [(i, j) for i, j in (zip(variable_list, evaluation_point))]  # list of tuples with variables and their evaluation_point coordinates, to later perform substitution\n",
    "\n",
    "    deriv_orders = list(itertools.product(range(degree + 1), repeat=n_var))  # list with exponentials of the partial derivatives\n",
    "    deriv_orders = [deriv_orders[i] for i in range(len(deriv_orders)) if sum(deriv_orders[i]) <= degree]  # Discarding some higher-order terms\n",
    "    n_terms = len(deriv_orders)\n",
    "    deriv_orders_as_input = [list(sum(list(zip(variable_list, deriv_orders[i])), ())) for i in range(n_terms)]  # Individual degree of each partial derivative, of each term\n",
    "\n",
    "    polynomial = 0\n",
    "    for i in range(n_terms):\n",
    "        partial_derivatives_at_point = function_expression.diff(*deriv_orders_as_input[i]).subs(point_coordinates)  # e.g. df/(dx*dy**2)\n",
    "        denominator = prod([factorial(j) for j in deriv_orders[i]])  # e.g. (1! * 2!)\n",
    "        distances_powered = prod([(Matrix(variable_list) - Matrix(evaluation_point))[j] ** deriv_orders[i][j] for j in range(n_var)])  # e.g. (x-x0)*(y-y0)**2\n",
    "        polynomial += partial_derivatives_at_point / denominator * distances_powered\n",
    "    return polynomial"
   ]
  },
  {
   "cell_type": "code",
   "execution_count": 22,
   "metadata": {},
   "outputs": [
    {
     "data": {
      "text/latex": [
       "$\\displaystyle \\delta{t}^{2} \\tanh^{2}{\\left(t \\right)}$"
      ],
      "text/plain": [
       "         2     2   \n",
       "\\delta{t} ⋅tanh (t)"
      ]
     },
     "execution_count": 22,
     "metadata": {},
     "output_type": "execute_result"
    }
   ],
   "source": [
    "deg = 2\n",
    "ll = Taylor_polynomial_sympy(function_expression=ds.expand(), # 计算 ds^2\n",
    "                             variable_list=[dt],\n",
    "                             evaluation_point=[0],\n",
    "                             degree=deg)\n",
    "ll.simplify()"
   ]
  }
 ],
 "metadata": {
  "kernelspec": {
   "display_name": "Python 3",
   "language": "python",
   "name": "python3"
  },
  "language_info": {
   "codemirror_mode": {
    "name": "ipython",
    "version": 3
   },
   "file_extension": ".py",
   "mimetype": "text/x-python",
   "name": "python",
   "nbconvert_exporter": "python",
   "pygments_lexer": "ipython3",
   "version": "3.12.3"
  }
 },
 "nbformat": 4,
 "nbformat_minor": 2
}
