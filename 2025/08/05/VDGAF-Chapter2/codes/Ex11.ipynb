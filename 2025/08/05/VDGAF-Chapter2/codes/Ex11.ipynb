{
 "cells": [
  {
   "cell_type": "code",
   "execution_count": 1,
   "metadata": {},
   "outputs": [],
   "source": [
    "import sympy\n",
    "sympy.init_printing()"
   ]
  },
  {
   "cell_type": "code",
   "execution_count": 2,
   "metadata": {},
   "outputs": [
    {
     "data": {
      "text/latex": [
       "$\\displaystyle \\left( R, \\  x, \\  y\\right)$"
      ],
      "text/plain": [
       "(R, x, y)"
      ]
     },
     "execution_count": 2,
     "metadata": {},
     "output_type": "execute_result"
    }
   ],
   "source": [
    "R, x, y = sympy.symbols('R, x, y')\n",
    "R, x, y"
   ]
  },
  {
   "cell_type": "code",
   "execution_count": 5,
   "metadata": {},
   "outputs": [
    {
     "data": {
      "text/latex": [
       "$\\displaystyle \\left( \\frac{R}{\\sqrt{R^{2} + y^{2}}}, \\  \\frac{R^{2}}{R^{2} + y^{2}}\\right)$"
      ],
      "text/plain": [
       "⎛                  2  ⎞\n",
       "⎜     R           R   ⎟\n",
       "⎜────────────, ───────⎟\n",
       "⎜   _________   2    2⎟\n",
       "⎜  ╱  2    2   R  + y ⎟\n",
       "⎝╲╱  R  + y           ⎠"
      ]
     },
     "execution_count": 5,
     "metadata": {},
     "output_type": "execute_result"
    }
   ],
   "source": [
    "A = R / sympy.sqrt(R**2 + y**2)\n",
    "B = R**2 / (R**2 + y**2)\n",
    "A, B"
   ]
  },
  {
   "cell_type": "code",
   "execution_count": 8,
   "metadata": {},
   "outputs": [
    {
     "data": {
      "text/latex": [
       "$\\displaystyle - \\frac{\\left(R^{2} + y^{2}\\right)^{\\frac{3}{2}} \\left(\\frac{y^{2}}{R \\left(R^{2} + y^{2}\\right)^{\\frac{3}{2}}} - \\frac{1}{R \\sqrt{R^{2} + y^{2}}}\\right)}{R^{3}}$"
      ],
      "text/plain": [
       "          3/2 ⎛       2                       ⎞ \n",
       " ⎛ 2    2⎞    ⎜      y                1       ⎟ \n",
       "-⎝R  + y ⎠   ⋅⎜────────────── - ──────────────⎟ \n",
       "              ⎜           3/2        _________⎟ \n",
       "              ⎜  ⎛ 2    2⎞          ╱  2    2 ⎟ \n",
       "              ⎝R⋅⎝R  + y ⎠      R⋅╲╱  R  + y  ⎠ \n",
       "────────────────────────────────────────────────\n",
       "                        3                       \n",
       "                       R                        "
      ]
     },
     "execution_count": 8,
     "metadata": {},
     "output_type": "execute_result"
    }
   ],
   "source": [
    "K = - 1 / (A * B) * ((A.diff(y) / B).diff(y) + (B.diff(x) / A).diff(x))\n",
    "K"
   ]
  },
  {
   "cell_type": "code",
   "execution_count": 29,
   "metadata": {},
   "outputs": [
    {
     "data": {
      "text/latex": [
       "$\\displaystyle \\frac{1}{R^{2}}$"
      ],
      "text/plain": [
       "1 \n",
       "──\n",
       " 2\n",
       "R "
      ]
     },
     "execution_count": 29,
     "metadata": {},
     "output_type": "execute_result"
    }
   ],
   "source": [
    "A.diff(y)\n",
    "A.diff(y) / B\n",
    "(A.diff(y) / B).diff(y)\n",
    "-1 / (A*B) * (A.diff(y) / B).diff(y)\n",
    "_.simplify()"
   ]
  }
 ],
 "metadata": {
  "kernelspec": {
   "display_name": "Python 3",
   "language": "python",
   "name": "python3"
  },
  "language_info": {
   "codemirror_mode": {
    "name": "ipython",
    "version": 3
   },
   "file_extension": ".py",
   "mimetype": "text/x-python",
   "name": "python",
   "nbconvert_exporter": "python",
   "pygments_lexer": "ipython3",
   "version": "3.12.3"
  }
 },
 "nbformat": 4,
 "nbformat_minor": 2
}
