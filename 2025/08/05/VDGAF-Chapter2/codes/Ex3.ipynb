{
 "cells": [
  {
   "cell_type": "code",
   "execution_count": 46,
   "metadata": {},
   "outputs": [],
   "source": [
    "import sympy\n",
    "sympy.init_printing()"
   ]
  },
  {
   "cell_type": "code",
   "execution_count": 47,
   "metadata": {},
   "outputs": [
    {
     "data": {
      "text/latex": [
       "$\\displaystyle \\left( R, \\  r, \\  \\theta, \\  \\delta{r}, \\  \\delta{\\theta}\\right)$"
      ],
      "text/plain": [
       "(R, r, \\theta, \\delta{r}, \\delta{\\theta})"
      ]
     },
     "execution_count": 47,
     "metadata": {},
     "output_type": "execute_result"
    }
   ],
   "source": [
    "R, r, t, dr, dt = sympy.symbols('R, r, \\\\theta, \\\\delta{r}, \\\\delta{\\\\theta}')\n",
    "R, r, t, dr, dt"
   ]
  },
  {
   "cell_type": "code",
   "execution_count": null,
   "metadata": {},
   "outputs": [],
   "source": [
    "import sympy\n",
    "sympy.init_printing()"
   ]
  },
  {
   "cell_type": "code",
   "execution_count": null,
   "metadata": {},
   "outputs": [
    {
     "data": {
      "text/latex": [
       "$\\displaystyle \\left( R, \\  r, \\  \\theta, \\  \\delta{r}, \\  \\delta{\\theta}\\right)$"
      ],
      "text/plain": [
       "(R, r, \\theta, \\delta{r}, \\delta{\\theta})"
      ]
     },
     "metadata": {},
     "output_type": "display_data"
    }
   ],
   "source": [
    "R, r, t, dr, dt = sympy.symbols('R, r, \\\\theta, \\\\delta{r}, \\\\delta{\\\\theta}')\n",
    "R, r, t, dr, dt"
   ]
  },
  {
   "cell_type": "code",
   "execution_count": null,
   "metadata": {},
   "outputs": [],
   "source": [
    "def genExpress(r, t, R):\n",
    "    exp = sympy.sqrt(1 + (r / R)**2)\n",
    "    return r / exp * sympy.cos(t), r / exp * sympy.sin(t), R * (1 - 1 / exp)"
   ]
  },
  {
   "cell_type": "code",
   "execution_count": null,
   "metadata": {},
   "outputs": [
    {
     "data": {
      "text/latex": [
       "$\\displaystyle \\left( \\frac{r \\cos{\\left(\\theta \\right)}}{\\sqrt{1 + \\frac{r^{2}}{R^{2}}}}, \\  \\frac{r \\sin{\\left(\\theta \\right)}}{\\sqrt{1 + \\frac{r^{2}}{R^{2}}}}, \\  R \\left(1 - \\frac{1}{\\sqrt{1 + \\frac{r^{2}}{R^{2}}}}\\right), \\  \\frac{\\left(\\delta{r} + r\\right) \\cos{\\left(\\theta \\right)}}{\\sqrt{1 + \\frac{\\left(\\delta{r} + r\\right)^{2}}{R^{2}}}}, \\  \\frac{\\left(\\delta{r} + r\\right) \\sin{\\left(\\theta \\right)}}{\\sqrt{1 + \\frac{\\left(\\delta{r} + r\\right)^{2}}{R^{2}}}}, \\  R \\left(1 - \\frac{1}{\\sqrt{1 + \\frac{\\left(\\delta{r} + r\\right)^{2}}{R^{2}}}}\\right), \\  \\frac{\\left(\\delta{r} + r\\right) \\cos{\\left(\\delta{\\theta} + \\theta \\right)}}{\\sqrt{1 + \\frac{\\left(\\delta{r} + r\\right)^{2}}{R^{2}}}}, \\  \\frac{\\left(\\delta{r} + r\\right) \\sin{\\left(\\delta{\\theta} + \\theta \\right)}}{\\sqrt{1 + \\frac{\\left(\\delta{r} + r\\right)^{2}}{R^{2}}}}, \\  R \\left(1 - \\frac{1}{\\sqrt{1 + \\frac{\\left(\\delta{r} + r\\right)^{2}}{R^{2}}}}\\right)\\right)$"
      ],
      "text/plain": [
       "⎛r⋅cos(\\theta)   r⋅sin(\\theta)     ⎛          1       ⎞  (\\delta{r} + r)⋅cos(\\\n",
       "⎜──────────────, ──────────────, R⋅⎜1 - ──────────────⎟, ─────────────────────\n",
       "⎜      ________        ________    ⎜          ________⎟        _______________\n",
       "⎜     ╱      2        ╱      2     ⎜         ╱      2 ⎟       ╱               \n",
       "⎜    ╱      r        ╱      r      ⎜        ╱      r  ⎟      ╱      (\\delta{r}\n",
       "⎜   ╱   1 + ──      ╱   1 + ──     ⎜       ╱   1 + ── ⎟     ╱   1 + ──────────\n",
       "⎜  ╱         2     ╱         2     ⎜      ╱         2 ⎟    ╱                2 \n",
       "⎝╲╱         R    ╲╱         R      ⎝    ╲╱         R  ⎠  ╲╱                R  \n",
       "\n",
       "theta)   (\\delta{r} + r)⋅sin(\\theta)     ⎛                 1              ⎞  (\n",
       "───────, ────────────────────────────, R⋅⎜1 - ────────────────────────────⎟, ─\n",
       "_______        ______________________    ⎜          ______________________⎟   \n",
       "     2        ╱                    2     ⎜         ╱                    2 ⎟   \n",
       " + r)        ╱      (\\delta{r} + r)      ⎜        ╱      (\\delta{r} + r)  ⎟   \n",
       "──────      ╱   1 + ────────────────     ⎜       ╱   1 + ──────────────── ⎟   \n",
       "           ╱                2            ⎜      ╱                2        ⎟   \n",
       "         ╲╱                R             ⎝    ╲╱                R         ⎠   \n",
       "\n",
       "\\delta{r} + r)⋅cos(\\delta{\\theta} + \\theta)  (\\delta{r} + r)⋅sin(\\delta{\\theta\n",
       "───────────────────────────────────────────, ─────────────────────────────────\n",
       "             ______________________                        ___________________\n",
       "            ╱                    2                        ╱                   \n",
       "           ╱      (\\delta{r} + r)                        ╱      (\\delta{r} + r\n",
       "          ╱   1 + ────────────────                      ╱   1 + ──────────────\n",
       "         ╱                2                            ╱                2     \n",
       "       ╲╱                R                           ╲╱                R      \n",
       "\n",
       "} + \\theta)    ⎛                 1              ⎞⎞\n",
       "───────────, R⋅⎜1 - ────────────────────────────⎟⎟\n",
       "___            ⎜          ______________________⎟⎟\n",
       " 2             ⎜         ╱                    2 ⎟⎟\n",
       ")              ⎜        ╱      (\\delta{r} + r)  ⎟⎟\n",
       "──             ⎜       ╱   1 + ──────────────── ⎟⎟\n",
       "               ⎜      ╱                2        ⎟⎟\n",
       "               ⎝    ╲╱                R         ⎠⎠"
      ]
     },
     "metadata": {},
     "output_type": "display_data"
    }
   ],
   "source": [
    "x1, y1, z1 = genExpress(r, t, R)\n",
    "x2, y2, z2 = genExpress(r + dr, t, R)\n",
    "x3, y3, z3 = genExpress(r + dr, t + dt, R)\n",
    "x1, y1, z1, x2, y2, z2, x3, y3, z3"
   ]
  },
  {
   "cell_type": "code",
   "execution_count": null,
   "metadata": {},
   "outputs": [
    {
     "data": {
      "text/latex": [
       "$\\displaystyle \\frac{2 \\delta{r}^{2} \\sin^{2}{\\left(\\theta \\right)}}{1 + \\frac{\\delta{r}^{2}}{R^{2}} + \\frac{2 \\delta{r} r}{R^{2}} + \\frac{r^{2}}{R^{2}}} - \\frac{2 \\delta{r}^{2} \\sin{\\left(\\theta \\right)} \\sin{\\left(\\delta{\\theta} + \\theta \\right)}}{1 + \\frac{\\delta{r}^{2}}{R^{2}} + \\frac{2 \\delta{r} r}{R^{2}} + \\frac{r^{2}}{R^{2}}} + \\frac{2 \\delta{r}^{2} \\cos^{2}{\\left(\\theta \\right)}}{1 + \\frac{\\delta{r}^{2}}{R^{2}} + \\frac{2 \\delta{r} r}{R^{2}} + \\frac{r^{2}}{R^{2}}} - \\frac{2 \\delta{r}^{2} \\cos{\\left(\\theta \\right)} \\cos{\\left(\\delta{\\theta} + \\theta \\right)}}{1 + \\frac{\\delta{r}^{2}}{R^{2}} + \\frac{2 \\delta{r} r}{R^{2}} + \\frac{r^{2}}{R^{2}}} + \\frac{4 \\delta{r} r \\sin^{2}{\\left(\\theta \\right)}}{1 + \\frac{\\delta{r}^{2}}{R^{2}} + \\frac{2 \\delta{r} r}{R^{2}} + \\frac{r^{2}}{R^{2}}} - \\frac{4 \\delta{r} r \\sin{\\left(\\theta \\right)} \\sin{\\left(\\delta{\\theta} + \\theta \\right)}}{1 + \\frac{\\delta{r}^{2}}{R^{2}} + \\frac{2 \\delta{r} r}{R^{2}} + \\frac{r^{2}}{R^{2}}} + \\frac{4 \\delta{r} r \\cos^{2}{\\left(\\theta \\right)}}{1 + \\frac{\\delta{r}^{2}}{R^{2}} + \\frac{2 \\delta{r} r}{R^{2}} + \\frac{r^{2}}{R^{2}}} - \\frac{4 \\delta{r} r \\cos{\\left(\\theta \\right)} \\cos{\\left(\\delta{\\theta} + \\theta \\right)}}{1 + \\frac{\\delta{r}^{2}}{R^{2}} + \\frac{2 \\delta{r} r}{R^{2}} + \\frac{r^{2}}{R^{2}}} - \\frac{2 \\delta{r} r \\sin^{2}{\\left(\\theta \\right)}}{\\sqrt{1 + \\frac{r^{2}}{R^{2}}} \\sqrt{1 + \\frac{\\delta{r}^{2}}{R^{2}} + \\frac{2 \\delta{r} r}{R^{2}} + \\frac{r^{2}}{R^{2}}}} + \\frac{2 \\delta{r} r \\sin{\\left(\\theta \\right)} \\sin{\\left(\\delta{\\theta} + \\theta \\right)}}{\\sqrt{1 + \\frac{r^{2}}{R^{2}}} \\sqrt{1 + \\frac{\\delta{r}^{2}}{R^{2}} + \\frac{2 \\delta{r} r}{R^{2}} + \\frac{r^{2}}{R^{2}}}} - \\frac{2 \\delta{r} r \\cos^{2}{\\left(\\theta \\right)}}{\\sqrt{1 + \\frac{r^{2}}{R^{2}}} \\sqrt{1 + \\frac{\\delta{r}^{2}}{R^{2}} + \\frac{2 \\delta{r} r}{R^{2}} + \\frac{r^{2}}{R^{2}}}} + \\frac{2 \\delta{r} r \\cos{\\left(\\theta \\right)} \\cos{\\left(\\delta{\\theta} + \\theta \\right)}}{\\sqrt{1 + \\frac{r^{2}}{R^{2}}} \\sqrt{1 + \\frac{\\delta{r}^{2}}{R^{2}} + \\frac{2 \\delta{r} r}{R^{2}} + \\frac{r^{2}}{R^{2}}}} + \\frac{2 r^{2} \\sin^{2}{\\left(\\theta \\right)}}{1 + \\frac{\\delta{r}^{2}}{R^{2}} + \\frac{2 \\delta{r} r}{R^{2}} + \\frac{r^{2}}{R^{2}}} - \\frac{2 r^{2} \\sin{\\left(\\theta \\right)} \\sin{\\left(\\delta{\\theta} + \\theta \\right)}}{1 + \\frac{\\delta{r}^{2}}{R^{2}} + \\frac{2 \\delta{r} r}{R^{2}} + \\frac{r^{2}}{R^{2}}} + \\frac{2 r^{2} \\cos^{2}{\\left(\\theta \\right)}}{1 + \\frac{\\delta{r}^{2}}{R^{2}} + \\frac{2 \\delta{r} r}{R^{2}} + \\frac{r^{2}}{R^{2}}} - \\frac{2 r^{2} \\cos{\\left(\\theta \\right)} \\cos{\\left(\\delta{\\theta} + \\theta \\right)}}{1 + \\frac{\\delta{r}^{2}}{R^{2}} + \\frac{2 \\delta{r} r}{R^{2}} + \\frac{r^{2}}{R^{2}}} - \\frac{2 r^{2} \\sin^{2}{\\left(\\theta \\right)}}{\\sqrt{1 + \\frac{r^{2}}{R^{2}}} \\sqrt{1 + \\frac{\\delta{r}^{2}}{R^{2}} + \\frac{2 \\delta{r} r}{R^{2}} + \\frac{r^{2}}{R^{2}}}} + \\frac{2 r^{2} \\sin{\\left(\\theta \\right)} \\sin{\\left(\\delta{\\theta} + \\theta \\right)}}{\\sqrt{1 + \\frac{r^{2}}{R^{2}}} \\sqrt{1 + \\frac{\\delta{r}^{2}}{R^{2}} + \\frac{2 \\delta{r} r}{R^{2}} + \\frac{r^{2}}{R^{2}}}} - \\frac{2 r^{2} \\cos^{2}{\\left(\\theta \\right)}}{\\sqrt{1 + \\frac{r^{2}}{R^{2}}} \\sqrt{1 + \\frac{\\delta{r}^{2}}{R^{2}} + \\frac{2 \\delta{r} r}{R^{2}} + \\frac{r^{2}}{R^{2}}}} + \\frac{2 r^{2} \\cos{\\left(\\theta \\right)} \\cos{\\left(\\delta{\\theta} + \\theta \\right)}}{\\sqrt{1 + \\frac{r^{2}}{R^{2}}} \\sqrt{1 + \\frac{\\delta{r}^{2}}{R^{2}} + \\frac{2 \\delta{r} r}{R^{2}} + \\frac{r^{2}}{R^{2}}}}$"
      ],
      "text/plain": [
       "                2    2                           2                            \n",
       "     2⋅\\delta{r} ⋅sin (\\theta)        2⋅\\delta{r} ⋅sin(\\theta)⋅sin(\\delta{\\the\n",
       "─────────────────────────────────── - ────────────────────────────────────────\n",
       "             2                    2                         2                 \n",
       "    \\delta{r}    2⋅\\delta{r}⋅r   r                 \\delta{r}    2⋅\\delta{r}⋅r \n",
       "1 + ────────── + ───────────── + ──            1 + ────────── + ───────────── \n",
       "         2              2         2                     2              2      \n",
       "        R              R         R                     R              R       \n",
       "                                                                              \n",
       "\n",
       "                                2    2                           2            \n",
       "ta} + \\theta)        2⋅\\delta{r} ⋅cos (\\theta)        2⋅\\delta{r} ⋅cos(\\theta)\n",
       "───────────── + ─────────────────────────────────── - ────────────────────────\n",
       "   2                         2                    2                         2 \n",
       "  r                 \\delta{r}    2⋅\\delta{r}⋅r   r                 \\delta{r}  \n",
       "+ ──            1 + ────────── + ───────────── + ──            1 + ────────── \n",
       "   2                     2              2         2                     2     \n",
       "  R                     R              R         R                     R      \n",
       "                                                                              \n",
       "\n",
       "                                                      2                       \n",
       "⋅cos(\\delta{\\theta} + \\theta)        4⋅\\delta{r}⋅r⋅sin (\\theta)       4⋅\\delta\n",
       "───────────────────────────── + ─────────────────────────────────── - ────────\n",
       "                   2                         2                    2           \n",
       "  2⋅\\delta{r}⋅r   r                 \\delta{r}    2⋅\\delta{r}⋅r   r            \n",
       "+ ───────────── + ──            1 + ────────── + ───────────── + ──           \n",
       "         2         2                     2              2         2           \n",
       "        R         R                     R              R         R            \n",
       "                                                                              \n",
       "\n",
       "                                                                       2      \n",
       "{r}⋅r⋅sin(\\theta)⋅sin(\\delta{\\theta} + \\theta)        4⋅\\delta{r}⋅r⋅cos (\\thet\n",
       "────────────────────────────────────────────── + ─────────────────────────────\n",
       "              2                    2                          2               \n",
       "     \\delta{r}    2⋅\\delta{r}⋅r   r                  \\delta{r}    2⋅\\delta{r}⋅\n",
       " 1 + ────────── + ───────────── + ──             1 + ────────── + ────────────\n",
       "          2              2         2                      2              2    \n",
       "         R              R         R                      R              R     \n",
       "                                                                              \n",
       "\n",
       "                                                                              \n",
       "a)       4⋅\\delta{r}⋅r⋅cos(\\theta)⋅cos(\\delta{\\theta} + \\theta)               \n",
       "────── - ────────────────────────────────────────────────────── - ────────────\n",
       "     2                         2                    2                   ______\n",
       "r   r                 \\delta{r}    2⋅\\delta{r}⋅r   r                   ╱      \n",
       "─ + ──            1 + ────────── + ───────────── + ──                 ╱      r\n",
       "     2                     2              2         2                ╱   1 + ─\n",
       "    R                     R              R         R                ╱         \n",
       "                                                                  ╲╱         R\n",
       "\n",
       "                     2                                                        \n",
       "    2⋅\\delta{r}⋅r⋅sin (\\theta)                     2⋅\\delta{r}⋅r⋅sin(\\theta)⋅s\n",
       "────────────────────────────────────────────── + ─────────────────────────────\n",
       "__       _____________________________________         ________       ________\n",
       "2       ╱              2                    2         ╱      2       ╱        \n",
       "       ╱      \\delta{r}    2⋅\\delta{r}⋅r   r         ╱      r       ╱      \\de\n",
       "─ ⋅   ╱   1 + ────────── + ───────────── + ──       ╱   1 + ── ⋅   ╱   1 + ───\n",
       "2    ╱             2              2         2      ╱         2    ╱           \n",
       "   ╲╱             R              R         R     ╲╱         R   ╲╱            \n",
       "\n",
       "                                                                 2            \n",
       "in(\\delta{\\theta} + \\theta)                     2⋅\\delta{r}⋅r⋅cos (\\theta)    \n",
       "───────────────────────────── - ──────────────────────────────────────────────\n",
       "_____________________________         ________       _________________________\n",
       "      2                    2         ╱      2       ╱              2          \n",
       "lta{r}    2⋅\\delta{r}⋅r   r         ╱      r       ╱      \\delta{r}    2⋅\\delt\n",
       "─────── + ───────────── + ──       ╱   1 + ── ⋅   ╱   1 + ────────── + ───────\n",
       "  2              2         2      ╱         2    ╱             2              \n",
       " R              R         R     ╲╱         R   ╲╱             R              R\n",
       "\n",
       "                                                                              \n",
       "                 2⋅\\delta{r}⋅r⋅cos(\\theta)⋅cos(\\delta{\\theta} + \\theta)       \n",
       "──────────── + ────────────────────────────────────────────────────────── + ──\n",
       "____________         ________       _____________________________________     \n",
       "          2         ╱      2       ╱              2                    2      \n",
       "a{r}⋅r   r         ╱      r       ╱      \\delta{r}    2⋅\\delta{r}⋅r   r     1 \n",
       "────── + ──       ╱   1 + ── ⋅   ╱   1 + ────────── + ───────────── + ──      \n",
       "2         2      ╱         2    ╱             2              2         2      \n",
       "         R     ╲╱         R   ╲╱             R              R         R       \n",
       "\n",
       "          2    2                       2                                      \n",
       "       2⋅r ⋅sin (\\theta)            2⋅r ⋅sin(\\theta)⋅sin(\\delta{\\theta} + \\the\n",
       "───────────────────────────────── - ──────────────────────────────────────────\n",
       "           2                    2                     2                    2  \n",
       "  \\delta{r}    2⋅\\delta{r}⋅r   r             \\delta{r}    2⋅\\delta{r}⋅r   r   \n",
       "+ ────────── + ───────────── + ──        1 + ────────── + ───────────── + ──  \n",
       "       2              2         2                 2              2         2  \n",
       "      R              R         R                 R              R         R   \n",
       "                                                                              \n",
       "\n",
       "                  2    2                       2                              \n",
       "ta)            2⋅r ⋅cos (\\theta)            2⋅r ⋅cos(\\theta)⋅cos(\\delta{\\theta\n",
       "─── + ─────────────────────────────────── - ──────────────────────────────────\n",
       "                   2                    2                     2               \n",
       "          \\delta{r}    2⋅\\delta{r}⋅r   r             \\delta{r}    2⋅\\delta{r}⋅\n",
       "      1 + ────────── + ───────────── + ──        1 + ────────── + ────────────\n",
       "               2              2         2                 2              2    \n",
       "              R              R         R                 R              R     \n",
       "                                                                              \n",
       "\n",
       "                                     2    2                                   \n",
       "} + \\theta)                       2⋅r ⋅sin (\\theta)                           \n",
       "─────────── - ────────────────────────────────────────────────────────── + ───\n",
       "     2              ________       _____________________________________      \n",
       "r   r              ╱      2       ╱              2                    2       \n",
       "─ + ──            ╱      r       ╱      \\delta{r}    2⋅\\delta{r}⋅r   r        \n",
       "     2           ╱   1 + ── ⋅   ╱   1 + ────────── + ───────────── + ──       \n",
       "    R           ╱         2    ╱             2              2         2      ╱\n",
       "              ╲╱         R   ╲╱             R              R         R     ╲╱ \n",
       "\n",
       "      2                                                                       \n",
       "   2⋅r ⋅sin(\\theta)⋅sin(\\delta{\\theta} + \\theta)                              \n",
       "─────────────────────────────────────────────────────── - ────────────────────\n",
       "   ________       _____________________________________         ________      \n",
       "  ╱      2       ╱              2                    2         ╱      2       \n",
       " ╱      r       ╱      \\delta{r}    2⋅\\delta{r}⋅r   r         ╱      r       ╱\n",
       "╱   1 + ── ⋅   ╱   1 + ────────── + ───────────── + ──       ╱   1 + ── ⋅   ╱ \n",
       "         2    ╱             2              2         2      ╱         2    ╱  \n",
       "        R   ╲╱             R              R         R     ╲╱         R   ╲╱   \n",
       "\n",
       "   2    2                                         2                           \n",
       "2⋅r ⋅cos (\\theta)                              2⋅r ⋅cos(\\theta)⋅cos(\\delta{\\th\n",
       "────────────────────────────────────── + ─────────────────────────────────────\n",
       " _____________________________________         ________       ________________\n",
       "╱              2                    2         ╱      2       ╱              2 \n",
       "      \\delta{r}    2⋅\\delta{r}⋅r   r         ╱      r       ╱      \\delta{r}  \n",
       "  1 + ────────── + ───────────── + ──       ╱   1 + ── ⋅   ╱   1 + ────────── \n",
       "           2              2         2      ╱         2    ╱             2     \n",
       "          R              R         R     ╲╱         R   ╲╱             R      \n",
       "\n",
       "                     \n",
       "eta} + \\theta)       \n",
       "─────────────────────\n",
       "_____________________\n",
       "                   2 \n",
       "  2⋅\\delta{r}⋅r   r  \n",
       "+ ───────────── + ── \n",
       "         2         2 \n",
       "        R         R  "
      ]
     },
     "metadata": {},
     "output_type": "display_data"
    }
   ],
   "source": [
    "ds2 = (x3 - x1)**2 + (y3 - y1)**2 + (z3 - z1)**2\n",
    "ds1_2 = (x2 - x1)**2 + (y2 - y1)**2 + (z2 - z1)**2\n",
    "ds2_2 = (x3 - x2)**2 + (y3 - y2)**2 + (z3 - z2)**2\n",
    "E = ds1_2.expand() + ds2_2.expand() - ds2.expand()\n",
    "E"
   ]
  },
  {
   "cell_type": "code",
   "execution_count": null,
   "metadata": {},
   "outputs": [],
   "source": [
    "def Taylor_polynomial_sympy(function_expression, variable_list, evaluation_point, degree):\n",
    "    \"\"\"\n",
    "    Mathematical formulation reference:\n",
    "    https://math.libretexts.org/Bookshelves/Calculus/Supplemental_Modules_(Calculus)/Multivariable_Calculus/3%3A_Topics_in_Partial_Derivatives/Taylor__Polynomials_of_Functions_of_Two_Variables\n",
    "    :param function_expression: Sympy expression of the function\n",
    "    :param variable_list: list. All variables to be approximated (to be \"Taylorized\")\n",
    "    :param evaluation_point: list. Coordinates, where the function will be expressed\n",
    "    :param degree: int. Total degree of the Taylor polynomial\n",
    "    :return: Returns a Sympy expression of the Taylor series up to a given degree, of a given multivariate expression, approximated as a multivariate polynomial evaluated at the evaluation_point\n",
    "    \"\"\"\n",
    "    from sympy import factorial, Matrix, prod\n",
    "    import itertools\n",
    "\n",
    "    n_var = len(variable_list)\n",
    "    point_coordinates = [(i, j) for i, j in (zip(variable_list, evaluation_point))]  # list of tuples with variables and their evaluation_point coordinates, to later perform substitution\n",
    "\n",
    "    deriv_orders = list(itertools.product(range(degree + 1), repeat=n_var))  # list with exponentials of the partial derivatives\n",
    "    deriv_orders = [deriv_orders[i] for i in range(len(deriv_orders)) if sum(deriv_orders[i]) <= degree]  # Discarding some higher-order terms\n",
    "    n_terms = len(deriv_orders)\n",
    "    deriv_orders_as_input = [list(sum(list(zip(variable_list, deriv_orders[i])), ())) for i in range(n_terms)]  # Individual degree of each partial derivative, of each term\n",
    "\n",
    "    polynomial = 0\n",
    "    for i in range(n_terms):\n",
    "        partial_derivatives_at_point = function_expression.diff(*deriv_orders_as_input[i]).subs(point_coordinates)  # e.g. df/(dx*dy**2)\n",
    "        denominator = prod([factorial(j) for j in deriv_orders[i]])  # e.g. (1! * 2!)\n",
    "        distances_powered = prod([(Matrix(variable_list) - Matrix(evaluation_point))[j] ** deriv_orders[i][j] for j in range(n_var)])  # e.g. (x-x0)*(y-y0)**2\n",
    "        polynomial += partial_derivatives_at_point / denominator * distances_powered\n",
    "    return polynomial"
   ]
  },
  {
   "cell_type": "code",
   "execution_count": null,
   "metadata": {},
   "outputs": [
    {
     "data": {
      "text/latex": [
       "$\\displaystyle \\frac{R^{2} \\left(R^{2} \\delta{r}^{2} + \\delta{\\theta}^{2} r^{2} \\left(R^{2} + r^{2}\\right)\\right)}{\\left(R^{2} + r^{2}\\right)^{2}}$"
      ],
      "text/plain": [
       " 2 ⎛ 2          2                 2  2 ⎛ 2    2⎞⎞\n",
       "R ⋅⎝R ⋅\\delta{r}  + \\delta{\\theta} ⋅r ⋅⎝R  + r ⎠⎠\n",
       "─────────────────────────────────────────────────\n",
       "                             2                   \n",
       "                    ⎛ 2    2⎞                    \n",
       "                    ⎝R  + r ⎠                    "
      ]
     },
     "metadata": {},
     "output_type": "display_data"
    }
   ],
   "source": [
    "deg = 2\n",
    "ll = Taylor_polynomial_sympy(function_expression=ds2, # 计算 ds^2\n",
    "                             variable_list=[dr, dt],\n",
    "                             evaluation_point=[0, 0],\n",
    "                             degree=deg)\n",
    "ll.simplify()"
   ]
  }
 ],
 "metadata": {
  "kernelspec": {
   "display_name": "Python 3",
   "language": "python",
   "name": "python3"
  },
  "language_info": {
   "codemirror_mode": {
    "name": "ipython",
    "version": 3
   },
   "file_extension": ".py",
   "mimetype": "text/x-python",
   "name": "python",
   "nbconvert_exporter": "python",
   "pygments_lexer": "ipython3",
   "version": "3.12.3"
  }
 },
 "nbformat": 4,
 "nbformat_minor": 2
}
