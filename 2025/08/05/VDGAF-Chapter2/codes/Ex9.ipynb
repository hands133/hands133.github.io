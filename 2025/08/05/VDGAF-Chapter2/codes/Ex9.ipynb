{
 "cells": [
  {
   "cell_type": "code",
   "execution_count": 1,
   "metadata": {},
   "outputs": [],
   "source": [
    "import sympy\n",
    "sympy.init_printing()"
   ]
  },
  {
   "cell_type": "code",
   "execution_count": 6,
   "metadata": {},
   "outputs": [
    {
     "data": {
      "text/latex": [
       "$\\displaystyle \\left( R, \\  r, \\  x, \\  y\\right)$"
      ],
      "text/plain": [
       "(R, r, x, y)"
      ]
     },
     "execution_count": 6,
     "metadata": {},
     "output_type": "execute_result"
    }
   ],
   "source": [
    "R, r, x, y = sympy.symbols('R, r, x, y')\n",
    "R, r, x, y"
   ]
  },
  {
   "cell_type": "code",
   "execution_count": 51,
   "metadata": {},
   "outputs": [
    {
     "data": {
      "text/latex": [
       "$\\displaystyle 1 + \\frac{x^{2} + y^{2}}{R^{2}}$"
      ],
      "text/plain": [
       "     2    2\n",
       "    x  + y \n",
       "1 + ───────\n",
       "        2  \n",
       "       R   "
      ]
     },
     "execution_count": 51,
     "metadata": {},
     "output_type": "execute_result"
    }
   ],
   "source": [
    "# l = 2 / (1 + (r / R)**2)\n",
    "# l = 2 / (1 + ((x**2 + y**2) / R)**2)\n",
    "l = 1 + (x**2 + y**2) / R**2\n",
    "l"
   ]
  },
  {
   "cell_type": "code",
   "execution_count": 52,
   "metadata": {},
   "outputs": [
    {
     "data": {
      "text/latex": [
       "$\\displaystyle \\log{\\left(1 + \\frac{x^{2} + y^{2}}{R^{2}} \\right)}$"
      ],
      "text/plain": [
       "   ⎛     2    2⎞\n",
       "   ⎜    x  + y ⎟\n",
       "log⎜1 + ───────⎟\n",
       "   ⎜        2  ⎟\n",
       "   ⎝       R   ⎠"
      ]
     },
     "execution_count": 52,
     "metadata": {},
     "output_type": "execute_result"
    }
   ],
   "source": [
    "ln_l = sympy.ln(l).simplify()\n",
    "ln_l"
   ]
  },
  {
   "cell_type": "code",
   "execution_count": 49,
   "metadata": {},
   "outputs": [],
   "source": [
    "def laplacianOP(f, x, y):\n",
    "    return (f.diff(x).diff(x) + f.diff(y).diff(y)).simplify()"
   ]
  },
  {
   "cell_type": "code",
   "execution_count": 53,
   "metadata": {},
   "outputs": [
    {
     "data": {
      "text/latex": [
       "$\\displaystyle - \\frac{1}{R^{2}}$"
      ],
      "text/plain": [
       "-1 \n",
       "───\n",
       "  2\n",
       " R "
      ]
     },
     "execution_count": 53,
     "metadata": {},
     "output_type": "execute_result"
    }
   ],
   "source": [
    "K = - l**2 / 4 * laplacianOP(ln_l, x, y)\n",
    "K.simplify()"
   ]
  },
  {
   "cell_type": "code",
   "execution_count": 56,
   "metadata": {},
   "outputs": [
    {
     "data": {
      "text/latex": [
       "$\\displaystyle \\frac{4 R^{2}}{\\left(R^{2} + x^{2} + y^{2}\\right)^{2}}$"
      ],
      "text/plain": [
       "         2     \n",
       "      4⋅R      \n",
       "───────────────\n",
       "              2\n",
       "⎛ 2    2    2⎞ \n",
       "⎝R  + x  + y ⎠ "
      ]
     },
     "execution_count": 56,
     "metadata": {},
     "output_type": "execute_result"
    }
   ],
   "source": [
    "laplacianOP(ln_l, x, y)"
   ]
  },
  {
   "cell_type": "code",
   "execution_count": 54,
   "metadata": {},
   "outputs": [
    {
     "name": "stdout",
     "output_type": "stream",
     "text": [
      "\\frac{2 \\left(R^{2} - x^{2} + y^{2}\\right)}{\\left(R^{2} + x^{2} + y^{2}\\right)^{2}}\n"
     ]
    }
   ],
   "source": [
    "L1 = ln_l.diff(x).diff(x).simplify()\n",
    "print(sympy.latex(L1))"
   ]
  },
  {
   "cell_type": "code",
   "execution_count": 55,
   "metadata": {},
   "outputs": [
    {
     "name": "stdout",
     "output_type": "stream",
     "text": [
      "\\frac{2 \\left(R^{2} + x^{2} - y^{2}\\right)}{\\left(R^{2} + x^{2} + y^{2}\\right)^{2}}\n"
     ]
    }
   ],
   "source": [
    "L2 = ln_l.diff(y).diff(y).simplify()\n",
    "print(sympy.latex(L2))"
   ]
  }
 ],
 "metadata": {
  "kernelspec": {
   "display_name": "Python 3",
   "language": "python",
   "name": "python3"
  },
  "language_info": {
   "codemirror_mode": {
    "name": "ipython",
    "version": 3
   },
   "file_extension": ".py",
   "mimetype": "text/x-python",
   "name": "python",
   "nbconvert_exporter": "python",
   "pygments_lexer": "ipython3",
   "version": "3.12.3"
  }
 },
 "nbformat": 4,
 "nbformat_minor": 2
}
