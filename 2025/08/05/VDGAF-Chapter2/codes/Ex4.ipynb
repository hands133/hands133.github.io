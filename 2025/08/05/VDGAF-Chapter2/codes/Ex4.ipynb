{
 "cells": [
  {
   "cell_type": "code",
   "execution_count": 3,
   "metadata": {},
   "outputs": [],
   "source": [
    "import sympy\n",
    "sympy.init_printing()"
   ]
  },
  {
   "cell_type": "code",
   "execution_count": 12,
   "metadata": {},
   "outputs": [
    {
     "data": {
      "text/latex": [
       "$\\displaystyle \\left( r, \\  R, \\  \\theta, \\  \\phi\\right)$"
      ],
      "text/plain": [
       "(r, R, \\theta, \\phi)"
      ]
     },
     "execution_count": 12,
     "metadata": {},
     "output_type": "execute_result"
    }
   ],
   "source": [
    "r = sympy.Symbol('r')\n",
    "R = sympy.Symbol('R')\n",
    "theta = sympy.Symbol('\\\\theta')\n",
    "phi = sympy.Symbol('\\\\phi')\n",
    "r, R, theta, phi"
   ]
  },
  {
   "cell_type": "code",
   "execution_count": 31,
   "metadata": {},
   "outputs": [
    {
     "data": {
      "text/latex": [
       "$\\displaystyle \\left( \\frac{1}{1 + \\frac{r^{2}}{R^{2}}}, \\  r \\sqrt{\\frac{1}{1 + \\frac{r^{2}}{R^{2}}}}\\right)$"
      ],
      "text/plain": [
       "⎛                  ________⎞\n",
       "⎜  1              ╱   1    ⎟\n",
       "⎜──────, r⋅      ╱  ────── ⎟\n",
       "⎜     2         ╱        2 ⎟\n",
       "⎜    r         ╱        r  ⎟\n",
       "⎜1 + ──       ╱     1 + ── ⎟\n",
       "⎜     2      ╱           2 ⎟\n",
       "⎝    R     ╲╱           R  ⎠"
      ]
     },
     "execution_count": 31,
     "metadata": {},
     "output_type": "execute_result"
    }
   ],
   "source": [
    "D = 1 / (1 + (r / R)**2)\n",
    "A = D\n",
    "B =  r * sympy.sqrt(D)\n",
    "A, B"
   ]
  },
  {
   "cell_type": "code",
   "execution_count": 32,
   "metadata": {},
   "outputs": [
    {
     "data": {
      "text/latex": [
       "$\\displaystyle - \\frac{\\left(1 + \\frac{r^{2}}{R^{2}}\\right) \\left(\\left(1 + \\frac{r^{2}}{R^{2}}\\right) \\left(- \\frac{3 r \\sqrt{\\frac{1}{1 + \\frac{r^{2}}{R^{2}}}}}{R^{2} \\cdot \\left(1 + \\frac{r^{2}}{R^{2}}\\right)} + \\frac{3 r^{3} \\sqrt{\\frac{1}{1 + \\frac{r^{2}}{R^{2}}}}}{R^{4} \\left(1 + \\frac{r^{2}}{R^{2}}\\right)^{2}}\\right) + \\frac{2 r \\left(\\sqrt{\\frac{1}{1 + \\frac{r^{2}}{R^{2}}}} - \\frac{r^{2} \\sqrt{\\frac{1}{1 + \\frac{r^{2}}{R^{2}}}}}{R^{2} \\cdot \\left(1 + \\frac{r^{2}}{R^{2}}\\right)}\\right)}{R^{2}}\\right)}{r \\sqrt{\\frac{1}{1 + \\frac{r^{2}}{R^{2}}}}}$"
      ],
      "text/plain": [
       "          ⎛                                                                ⎛  \n",
       "          ⎜                                                                ⎜  \n",
       "          ⎜                                                                ⎜  \n",
       "          ⎜                                                                ⎜  \n",
       "          ⎜                                                                ⎜  \n",
       "          ⎜                                                                ⎜  \n",
       "          ⎜         ⎛              ________                ________⎞       ⎜  \n",
       "          ⎜         ⎜             ╱   1          3        ╱   1    ⎟       ⎜  \n",
       "          ⎜         ⎜  3⋅r⋅      ╱  ──────    3⋅r ⋅      ╱  ────── ⎟   2⋅r⋅⎜  \n",
       "          ⎜         ⎜           ╱        2              ╱        2 ⎟       ⎜  \n",
       "          ⎜         ⎜          ╱        r              ╱        r  ⎟       ⎜  \n",
       "          ⎜         ⎜         ╱     1 + ──            ╱     1 + ── ⎟       ⎜  \n",
       " ⎛     2⎞ ⎜⎛     2⎞ ⎜        ╱           2           ╱           2 ⎟       ⎜  \n",
       " ⎜    r ⎟ ⎜⎜    r ⎟ ⎜      ╲╱           R          ╲╱           R  ⎟       ⎝╲╱\n",
       "-⎜1 + ──⎟⋅⎜⎜1 + ──⎟⋅⎜- ──────────────────── + ─────────────────────⎟ + ───────\n",
       " ⎜     2⎟ ⎜⎜     2⎟ ⎜         ⎛     2⎞                        2    ⎟          \n",
       " ⎝    R ⎠ ⎜⎝    R ⎠ ⎜       2 ⎜    r ⎟                ⎛     2⎞     ⎟          \n",
       "          ⎜         ⎜      R ⋅⎜1 + ──⎟              4 ⎜    r ⎟     ⎟          \n",
       "          ⎜         ⎜         ⎜     2⎟             R ⋅⎜1 + ──⎟     ⎟          \n",
       "          ⎜         ⎜         ⎝    R ⎠                ⎜     2⎟     ⎟          \n",
       "          ⎝         ⎝                                 ⎝    R ⎠     ⎠          \n",
       "──────────────────────────────────────────────────────────────────────────────\n",
       "                                                            ________          \n",
       "                                                           ╱   1              \n",
       "                                                  r⋅      ╱  ──────           \n",
       "                                                         ╱        2           \n",
       "                                                        ╱        r            \n",
       "                                                       ╱     1 + ──           \n",
       "                                                      ╱           2           \n",
       "                                                    ╲╱           R            \n",
       "\n",
       "                            ________⎞⎞ \n",
       "                  2        ╱   1    ⎟⎟ \n",
       "                 r ⋅      ╱  ────── ⎟⎟ \n",
       "                         ╱        2 ⎟⎟ \n",
       "                        ╱        r  ⎟⎟ \n",
       "                       ╱     1 + ── ⎟⎟ \n",
       "      ________        ╱           2 ⎟⎟ \n",
       "     ╱   1          ╲╱           R  ⎟⎟ \n",
       "    ╱  ──────  - ───────────────────⎟⎟ \n",
       "   ╱        2           ⎛     2⎞    ⎟⎟ \n",
       "  ╱        r          2 ⎜    r ⎟    ⎟⎟ \n",
       " ╱     1 + ──        R ⋅⎜1 + ──⎟    ⎟⎟ \n",
       "╱           2           ⎜     2⎟    ⎟⎟ \n",
       "           R            ⎝    R ⎠    ⎠⎟ \n",
       "─────────────────────────────────────⎟ \n",
       "               2                     ⎟ \n",
       "              R                      ⎟ \n",
       "                                     ⎟ \n",
       "                                     ⎟ \n",
       "                                     ⎟ \n",
       "                                     ⎠ \n",
       "───────────────────────────────────────\n",
       "                                       \n",
       "                                       \n",
       "                                       \n",
       "                                       \n",
       "                                       \n",
       "                                       \n",
       "                                       \n",
       "                                       "
      ]
     },
     "execution_count": 32,
     "metadata": {},
     "output_type": "execute_result"
    }
   ],
   "source": [
    "K = -1 / (A * B) * ((A.diff(theta) / B).diff(theta) + (B.diff(r) / A).diff(r))\n",
    "K\n",
    "# K.simplify()"
   ]
  },
  {
   "cell_type": "code",
   "execution_count": 46,
   "metadata": {},
   "outputs": [
    {
     "name": "stdout",
     "output_type": "stream",
     "text": [
      "\\frac{R^{2} + r^{2}}{R^{2} r \\sqrt{\\frac{R^{2}}{R^{2} + r^{2}}}}\n"
     ]
    }
   ],
   "source": [
    "P = (1 / (A * B)).simplify().simplify()\n",
    "print(sympy.latex(P))"
   ]
  },
  {
   "cell_type": "code",
   "execution_count": 53,
   "metadata": {},
   "outputs": [
    {
     "name": "stdout",
     "output_type": "stream",
     "text": [
      "- \\frac{r \\sqrt{\\frac{R^{2}}{R^{2} + r^{2}}}}{R^{2} + r^{2}}\n"
     ]
    }
   ],
   "source": [
    "(K * (-P)).simplify()\n",
    "L = ((A.diff(theta) / B).diff(theta) + (B.diff(r) / A).diff(r)).simplify()\n",
    "print(sympy.latex(L))"
   ]
  }
 ],
 "metadata": {
  "kernelspec": {
   "display_name": "Python 3",
   "language": "python",
   "name": "python3"
  },
  "language_info": {
   "codemirror_mode": {
    "name": "ipython",
    "version": 3
   },
   "file_extension": ".py",
   "mimetype": "text/x-python",
   "name": "python",
   "nbconvert_exporter": "python",
   "pygments_lexer": "ipython3",
   "version": "3.12.3"
  }
 },
 "nbformat": 4,
 "nbformat_minor": 2
}
