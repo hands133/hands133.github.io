{
 "cells": [
  {
   "cell_type": "code",
   "execution_count": 35,
   "metadata": {},
   "outputs": [],
   "source": [
    "import sympy\n",
    "sympy.init_printing()\n",
    "\n",
    "from sympy import symbols, Eq, simplify"
   ]
  },
  {
   "cell_type": "code",
   "execution_count": 36,
   "metadata": {},
   "outputs": [],
   "source": [
    "x = sympy.Symbol('x')\n",
    "y = sympy.Symbol('y')"
   ]
  },
  {
   "cell_type": "code",
   "execution_count": 37,
   "metadata": {},
   "outputs": [
    {
     "data": {
      "text/latex": [
       "$\\displaystyle \\left( \\delta_{x}, \\  \\delta_{y}\\right)$"
      ],
      "text/plain": [
       "(\\deltaₓ, \\delta_y)"
      ]
     },
     "execution_count": 37,
     "metadata": {},
     "output_type": "execute_result"
    }
   ],
   "source": [
    "dx = sympy.Symbol('\\\\delta_x')\n",
    "dy = sympy.Symbol('\\\\delta_y')\n",
    "dx, dy"
   ]
  },
  {
   "cell_type": "code",
   "execution_count": 38,
   "metadata": {},
   "outputs": [
    {
     "data": {
      "text/latex": [
       "$\\displaystyle \\left( \\left( \\sqrt{\\frac{x}{2} + \\frac{\\sqrt{x^{2} + y^{2}}}{2}}, \\  \\sqrt{- \\frac{x}{2} + \\frac{\\sqrt{x^{2} + y^{2}}}{2}}\\right), \\  \\left( \\sqrt{\\frac{\\delta_{x}}{2} + \\frac{x}{2} + \\frac{\\sqrt{y^{2} + \\left(\\delta_{x} + x\\right)^{2}}}{2}}, \\  \\sqrt{- \\frac{\\delta_{x}}{2} - \\frac{x}{2} + \\frac{\\sqrt{y^{2} + \\left(\\delta_{x} + x\\right)^{2}}}{2}}\\right), \\  \\left( \\sqrt{\\frac{\\delta_{x}}{2} + \\frac{x}{2} + \\frac{\\sqrt{\\left(\\delta_{x} + x\\right)^{2} + \\left(\\delta_{y} + y\\right)^{2}}}{2}}, \\  \\sqrt{- \\frac{\\delta_{x}}{2} - \\frac{x}{2} + \\frac{\\sqrt{\\left(\\delta_{x} + x\\right)^{2} + \\left(\\delta_{y} + y\\right)^{2}}}{2}}\\right)\\right)$"
      ],
      "text/plain": [
       "⎛⎛      __________________        ____________________⎞  ⎛      ______________\n",
       "⎜⎜     ╱        _________        ╱          _________ ⎟  ⎜     ╱              \n",
       "⎜⎜    ╱        ╱  2    2        ╱          ╱  2    2  ⎟  ⎜    ╱               \n",
       "⎜⎜   ╱   x   ╲╱  x  + y        ╱     x   ╲╱  x  + y   ⎟  ⎜   ╱   \\deltaₓ   x  \n",
       "⎜⎜  ╱    ─ + ──────────── ,   ╱    - ─ + ──────────── ⎟, ⎜  ╱    ─────── + ─ +\n",
       "⎝⎝╲╱     2        2         ╲╱       2        2       ⎠  ⎝╲╱        2      2  \n",
       "\n",
       "__________________________        __________________________________________⎞ \n",
       "    _____________________        ╱                    _____________________ ⎟ \n",
       "   ╱  2                2        ╱                    ╱  2                2  ⎟ \n",
       " ╲╱  y  + (\\deltaₓ + x)        ╱     \\deltaₓ   x   ╲╱  y  + (\\deltaₓ + x)   ⎟ \n",
       " ──────────────────────── ,   ╱    - ─────── - ─ + ──────────────────────── ⎟,\n",
       "            2               ╲╱          2      2              2             ⎠ \n",
       "\n",
       " ⎛      _____________________________________________________        _________\n",
       " ⎜     ╱                  __________________________________        ╱         \n",
       " ⎜    ╱                  ╱              2                 2        ╱          \n",
       " ⎜   ╱   \\deltaₓ   x   ╲╱  (\\deltaₓ + x)  + (\\delta_y + y)        ╱     \\delta\n",
       " ⎜  ╱    ─────── + ─ + ───────────────────────────────────── ,   ╱    - ──────\n",
       " ⎝╲╱        2      2                     2                     ╲╱          2  \n",
       "\n",
       "______________________________________________⎞⎞\n",
       "           __________________________________ ⎟⎟\n",
       "          ╱              2                 2  ⎟⎟\n",
       "ₓ   x   ╲╱  (\\deltaₓ + x)  + (\\delta_y + y)   ⎟⎟\n",
       "─ - ─ + ───────────────────────────────────── ⎟⎟\n",
       "    2                     2                   ⎠⎠"
      ]
     },
     "execution_count": 38,
     "metadata": {},
     "output_type": "execute_result"
    }
   ],
   "source": [
    "P_x = sympy.sqrt((sympy.sqrt(x**2 + y**2) + x) / 2)\n",
    "P_y = sympy.sqrt((sympy.sqrt(x**2 + y**2) - x) / 2)\n",
    "\n",
    "Q_x = sympy.sqrt((sympy.sqrt((x + dx)**2 + y**2) + (x + dx)) / 2)\n",
    "Q_y = sympy.sqrt((sympy.sqrt((x + dx)**2 + y**2) - (x + dx)) / 2)\n",
    "\n",
    "R_x = sympy.sqrt((sympy.sqrt((x + dx)**2 + (y + dy)**2) + (x + dx)) / 2)\n",
    "R_y = sympy.sqrt((sympy.sqrt((x + dx)**2 + (y + dy)**2) - (x + dx)) / 2)\n",
    "\n",
    "(P_x, P_y), (Q_x, Q_y), (R_x, R_y)"
   ]
  },
  {
   "cell_type": "code",
   "execution_count": 39,
   "metadata": {},
   "outputs": [
    {
     "data": {
      "text/latex": [
       "$\\displaystyle - \\frac{\\delta_{x}}{2} - 2 \\sqrt{\\frac{x}{2} + \\frac{\\sqrt{x^{2} + y^{2}}}{2}} \\sqrt{\\frac{\\delta_{x}}{2} + \\frac{x}{2} + \\frac{\\sqrt{\\delta_{x}^{2} + 2 \\delta_{x} x + x^{2} + y^{2}}}{2}} + \\frac{\\sqrt{x^{2} + y^{2}}}{2} - 2 \\sqrt{- \\frac{\\delta_{x}}{2} - \\frac{x}{2} + \\frac{\\sqrt{\\delta_{x}^{2} + 2 \\delta_{x} x + x^{2} + y^{2}}}{2}} \\sqrt{- \\frac{\\delta_{x}}{2} - \\frac{x}{2} + \\frac{\\sqrt{\\delta_{x}^{2} + 2 \\delta_{x} x + \\delta_{y}^{2} + 2 \\delta_{y} y + x^{2} + y^{2}}}{2}} + \\sqrt{\\delta_{x}^{2} + 2 \\delta_{x} x + x^{2} + y^{2}} + \\frac{\\sqrt{\\delta_{x}^{2} + 2 \\delta_{x} x + \\delta_{y}^{2} + 2 \\delta_{y} y + x^{2} + y^{2}}}{2}$"
      ],
      "text/plain": [
       "                    __________________       _________________________________\n",
       "                   ╱        _________       ╱                  _______________\n",
       "                  ╱        ╱  2    2       ╱                  ╱        2      \n",
       "  \\deltaₓ        ╱   x   ╲╱  x  + y       ╱   \\deltaₓ   x   ╲╱  \\deltaₓ  + 2⋅\\\n",
       "- ─────── - 2⋅  ╱    ─ + ──────────── ⋅  ╱    ─────── + ─ + ──────────────────\n",
       "     2        ╲╱     2        2        ╲╱        2      2                     \n",
       "\n",
       "____________________                          ________________________________\n",
       "___________________       _________          ╱                    ____________\n",
       "            2    2       ╱  2    2          ╱                    ╱        2   \n",
       "deltaₓ⋅x + x  + y      ╲╱  x  + y          ╱     \\deltaₓ   x   ╲╱  \\deltaₓ  + \n",
       "───────────────────  + ──────────── - 2⋅  ╱    - ─────── - ─ + ───────────────\n",
       "2                           2           ╲╱          2      2                  \n",
       "\n",
       "_______________________       ________________________________________________\n",
       "______________________       ╱                    ____________________________\n",
       "               2    2       ╱                    ╱        2                   \n",
       "2⋅\\deltaₓ⋅x + x  + y       ╱     \\deltaₓ   x   ╲╱  \\deltaₓ  + 2⋅\\deltaₓ⋅x + \\d\n",
       "────────────────────── ⋅  ╱    - ─────── - ─ + ───────────────────────────────\n",
       "   2                    ╲╱          2      2                                  \n",
       "\n",
       "__________________________________                                            \n",
       "_________________________________                                             \n",
       "      2                   2    2        __________________________________    \n",
       "elta_y  + 2⋅\\delta_y⋅y + x  + y        ╱        2                  2    2    ╲\n",
       "─────────────────────────────────  + ╲╱  \\deltaₓ  + 2⋅\\deltaₓ⋅x + x  + y   + ─\n",
       "2                                                                             \n",
       "\n",
       "                                                               \n",
       "  _____________________________________________________________\n",
       " ╱        2                         2                   2    2 \n",
       "╱  \\deltaₓ  + 2⋅\\deltaₓ⋅x + \\delta_y  + 2⋅\\delta_y⋅y + x  + y  \n",
       "───────────────────────────────────────────────────────────────\n",
       "                              2                                "
      ]
     },
     "execution_count": 39,
     "metadata": {},
     "output_type": "execute_result"
    }
   ],
   "source": [
    "pq2 = (Q_x - P_x)**2\n",
    "qr2 = (R_y - Q_y)**2\n",
    "ds12 = pq2 + qr2\n",
    "ds12.expand()"
   ]
  },
  {
   "cell_type": "code",
   "execution_count": 40,
   "metadata": {},
   "outputs": [
    {
     "data": {
      "text/latex": [
       "$\\displaystyle - 2 \\sqrt{- \\frac{x}{2} + \\frac{\\sqrt{x^{2} + y^{2}}}{2}} \\sqrt{- \\frac{\\delta_{x}}{2} - \\frac{x}{2} + \\frac{\\sqrt{\\delta_{x}^{2} + 2 \\delta_{x} x + \\delta_{y}^{2} + 2 \\delta_{y} y + x^{2} + y^{2}}}{2}} - 2 \\sqrt{\\frac{x}{2} + \\frac{\\sqrt{x^{2} + y^{2}}}{2}} \\sqrt{\\frac{\\delta_{x}}{2} + \\frac{x}{2} + \\frac{\\sqrt{\\delta_{x}^{2} + 2 \\delta_{x} x + \\delta_{y}^{2} + 2 \\delta_{y} y + x^{2} + y^{2}}}{2}} + \\sqrt{x^{2} + y^{2}} + \\sqrt{\\delta_{x}^{2} + 2 \\delta_{x} x + \\delta_{y}^{2} + 2 \\delta_{y} y + x^{2} + y^{2}}$"
      ],
      "text/plain": [
       "          ____________________       _________________________________________\n",
       "         ╱          _________       ╱                    _____________________\n",
       "        ╱          ╱  2    2       ╱                    ╱        2            \n",
       "       ╱     x   ╲╱  x  + y       ╱     \\deltaₓ   x   ╲╱  \\deltaₓ  + 2⋅\\deltaₓ\n",
       "- 2⋅  ╱    - ─ + ──────────── ⋅  ╱    - ─────── - ─ + ────────────────────────\n",
       "    ╲╱       2        2        ╲╱          2      2                           \n",
       "\n",
       "_________________________________________           __________________       _\n",
       "________________________________________           ╱        _________       ╱ \n",
       "             2                   2    2           ╱        ╱  2    2       ╱  \n",
       "⋅x + \\delta_y  + 2⋅\\delta_y⋅y + x  + y           ╱   x   ╲╱  x  + y       ╱   \n",
       "────────────────────────────────────────  - 2⋅  ╱    ─ + ──────────── ⋅  ╱    \n",
       "       2                                      ╲╱     2        2        ╲╱     \n",
       "\n",
       "______________________________________________________________________________\n",
       "                 _____________________________________________________________\n",
       "                ╱        2                         2                   2    2 \n",
       "\\deltaₓ   x   ╲╱  \\deltaₓ  + 2⋅\\deltaₓ⋅x + \\delta_y  + 2⋅\\delta_y⋅y + x  + y  \n",
       "─────── + ─ + ────────────────────────────────────────────────────────────────\n",
       "   2      2                                  2                                \n",
       "\n",
       "_                                                                             \n",
       "                                                                              \n",
       "       _________      ________________________________________________________\n",
       "      ╱  2    2      ╱        2                         2                   2 \n",
       "  + ╲╱  x  + y   + ╲╱  \\deltaₓ  + 2⋅\\deltaₓ⋅x + \\delta_y  + 2⋅\\delta_y⋅y + x  \n",
       "                                                                              \n",
       "\n",
       "     \n",
       "     \n",
       "_____\n",
       "   2 \n",
       "+ y  \n",
       "     "
      ]
     },
     "execution_count": 40,
     "metadata": {},
     "output_type": "execute_result"
    }
   ],
   "source": [
    "pr2 = (R_x - P_x)**2 + (R_y - P_y)**2\n",
    "pr2.expand()"
   ]
  },
  {
   "cell_type": "code",
   "execution_count": 41,
   "metadata": {},
   "outputs": [
    {
     "data": {
      "text/latex": [
       "$\\displaystyle - \\frac{\\delta_{x}}{2} + 2 \\sqrt{- \\frac{x}{2} + \\frac{\\sqrt{x^{2} + y^{2}}}{2}} \\sqrt{- \\frac{\\delta_{x}}{2} - \\frac{x}{2} + \\frac{\\sqrt{\\delta_{x}^{2} + 2 \\delta_{x} x + \\delta_{y}^{2} + 2 \\delta_{y} y + x^{2} + y^{2}}}{2}} - 2 \\sqrt{\\frac{x}{2} + \\frac{\\sqrt{x^{2} + y^{2}}}{2}} \\sqrt{\\frac{\\delta_{x}}{2} + \\frac{x}{2} + \\frac{\\sqrt{\\delta_{x}^{2} + 2 \\delta_{x} x + x^{2} + y^{2}}}{2}} + 2 \\sqrt{\\frac{x}{2} + \\frac{\\sqrt{x^{2} + y^{2}}}{2}} \\sqrt{\\frac{\\delta_{x}}{2} + \\frac{x}{2} + \\frac{\\sqrt{\\delta_{x}^{2} + 2 \\delta_{x} x + \\delta_{y}^{2} + 2 \\delta_{y} y + x^{2} + y^{2}}}{2}} - \\frac{\\sqrt{x^{2} + y^{2}}}{2} - 2 \\sqrt{- \\frac{\\delta_{x}}{2} - \\frac{x}{2} + \\frac{\\sqrt{\\delta_{x}^{2} + 2 \\delta_{x} x + x^{2} + y^{2}}}{2}} \\sqrt{- \\frac{\\delta_{x}}{2} - \\frac{x}{2} + \\frac{\\sqrt{\\delta_{x}^{2} + 2 \\delta_{x} x + \\delta_{y}^{2} + 2 \\delta_{y} y + x^{2} + y^{2}}}{2}} + \\sqrt{\\delta_{x}^{2} + 2 \\delta_{x} x + x^{2} + y^{2}} - \\frac{\\sqrt{\\delta_{x}^{2} + 2 \\delta_{x} x + \\delta_{y}^{2} + 2 \\delta_{y} y + x^{2} + y^{2}}}{2}$"
      ],
      "text/plain": [
       "                    ____________________       _______________________________\n",
       "                   ╱          _________       ╱                    ___________\n",
       "                  ╱          ╱  2    2       ╱                    ╱        2  \n",
       "  \\deltaₓ        ╱     x   ╲╱  x  + y       ╱     \\deltaₓ   x   ╲╱  \\deltaₓ  +\n",
       "- ─────── + 2⋅  ╱    - ─ + ──────────── ⋅  ╱    - ─────── - ─ + ──────────────\n",
       "     2        ╲╱       2        2        ╲╱          2      2                 \n",
       "\n",
       "___________________________________________________           ________________\n",
       "__________________________________________________           ╱        ________\n",
       "                       2                   2    2           ╱        ╱  2    2\n",
       " 2⋅\\deltaₓ⋅x + \\delta_y  + 2⋅\\delta_y⋅y + x  + y           ╱   x   ╲╱  x  + y \n",
       "──────────────────────────────────────────────────  - 2⋅  ╱    ─ + ───────────\n",
       "                 2                                      ╲╱     2        2     \n",
       "\n",
       "__       _____________________________________________________           _____\n",
       "_       ╱                  __________________________________           ╱     \n",
       "       ╱                  ╱        2                  2    2           ╱      \n",
       "      ╱   \\deltaₓ   x   ╲╱  \\deltaₓ  + 2⋅\\deltaₓ⋅x + x  + y           ╱   x   \n",
       "─ ⋅  ╱    ─────── + ─ + ─────────────────────────────────────  + 2⋅  ╱    ─ + \n",
       "   ╲╱        2      2                     2                        ╲╱     2   \n",
       "\n",
       "_____________       __________________________________________________________\n",
       "   _________       ╱                  ________________________________________\n",
       "  ╱  2    2       ╱                  ╱        2                         2     \n",
       "╲╱  x  + y       ╱   \\deltaₓ   x   ╲╱  \\deltaₓ  + 2⋅\\deltaₓ⋅x + \\delta_y  + 2⋅\n",
       "──────────── ⋅  ╱    ─────── + ─ + ───────────────────────────────────────────\n",
       "     2        ╲╱        2      2                                  2           \n",
       "\n",
       "______________________                          ______________________________\n",
       "_____________________       _________          ╱                    __________\n",
       "              2    2       ╱  2    2          ╱                    ╱        2 \n",
       "\\delta_y⋅y + x  + y      ╲╱  x  + y          ╱     \\deltaₓ   x   ╲╱  \\deltaₓ  \n",
       "─────────────────────  - ──────────── - 2⋅  ╱    - ─────── - ─ + ─────────────\n",
       "                              2           ╲╱          2      2                \n",
       "\n",
       "_________________________       ______________________________________________\n",
       "________________________       ╱                    __________________________\n",
       "                 2    2       ╱                    ╱        2                 \n",
       "+ 2⋅\\deltaₓ⋅x + x  + y       ╱     \\deltaₓ   x   ╲╱  \\deltaₓ  + 2⋅\\deltaₓ⋅x + \n",
       "──────────────────────── ⋅  ╱    - ─────── - ─ + ─────────────────────────────\n",
       "     2                    ╲╱          2      2                                \n",
       "\n",
       "____________________________________                                          \n",
       "___________________________________                                           \n",
       "        2                   2    2        __________________________________  \n",
       "\\delta_y  + 2⋅\\delta_y⋅y + x  + y        ╱        2                  2    2   \n",
       "───────────────────────────────────  + ╲╱  \\deltaₓ  + 2⋅\\deltaₓ⋅x + x  + y   -\n",
       "  2                                                                           \n",
       "\n",
       "                                                                 \n",
       "    _____________________________________________________________\n",
       "   ╱        2                         2                   2    2 \n",
       " ╲╱  \\deltaₓ  + 2⋅\\deltaₓ⋅x + \\delta_y  + 2⋅\\delta_y⋅y + x  + y  \n",
       " ────────────────────────────────────────────────────────────────\n",
       "                                2                                "
      ]
     },
     "execution_count": 41,
     "metadata": {},
     "output_type": "execute_result"
    }
   ],
   "source": [
    "k = ds12 - pr2\n",
    "k = k.expand()\n",
    "k"
   ]
  },
  {
   "cell_type": "code",
   "execution_count": 42,
   "metadata": {},
   "outputs": [],
   "source": [
    "def Taylor_polynomial_sympy(function_expression, variable_list, evaluation_point, degree):\n",
    "    \"\"\"\n",
    "    Mathematical formulation reference:\n",
    "    https://math.libretexts.org/Bookshelves/Calculus/Supplemental_Modules_(Calculus)/Multivariable_Calculus/3%3A_Topics_in_Partial_Derivatives/Taylor__Polynomials_of_Functions_of_Two_Variables\n",
    "    :param function_expression: Sympy expression of the function\n",
    "    :param variable_list: list. All variables to be approximated (to be \"Taylorized\")\n",
    "    :param evaluation_point: list. Coordinates, where the function will be expressed\n",
    "    :param degree: int. Total degree of the Taylor polynomial\n",
    "    :return: Returns a Sympy expression of the Taylor series up to a given degree, of a given multivariate expression, approximated as a multivariate polynomial evaluated at the evaluation_point\n",
    "    \"\"\"\n",
    "    from sympy import factorial, Matrix, prod\n",
    "    import itertools\n",
    "\n",
    "    n_var = len(variable_list)\n",
    "    point_coordinates = [(i, j) for i, j in (zip(variable_list, evaluation_point))]  # list of tuples with variables and their evaluation_point coordinates, to later perform substitution\n",
    "\n",
    "    deriv_orders = list(itertools.product(range(degree + 1), repeat=n_var))  # list with exponentials of the partial derivatives\n",
    "    deriv_orders = [deriv_orders[i] for i in range(len(deriv_orders)) if sum(deriv_orders[i]) <= degree]  # Discarding some higher-order terms\n",
    "    n_terms = len(deriv_orders)\n",
    "    deriv_orders_as_input = [list(sum(list(zip(variable_list, deriv_orders[i])), ())) for i in range(n_terms)]  # Individual degree of each partial derivative, of each term\n",
    "\n",
    "    polynomial = 0\n",
    "    for i in range(n_terms):\n",
    "        partial_derivatives_at_point = function_expression.diff(*deriv_orders_as_input[i]).subs(point_coordinates)  # e.g. df/(dx*dy**2)\n",
    "        denominator = prod([factorial(j) for j in deriv_orders[i]])  # e.g. (1! * 2!)\n",
    "        distances_powered = prod([(Matrix(variable_list) - Matrix(evaluation_point))[j] ** deriv_orders[i][j] for j in range(n_var)])  # e.g. (x-x0)*(y-y0)**2\n",
    "        polynomial += partial_derivatives_at_point / denominator * distances_powered\n",
    "    return polynomial"
   ]
  },
  {
   "cell_type": "code",
   "execution_count": 43,
   "metadata": {},
   "outputs": [
    {
     "data": {
      "text/latex": [
       "$\\displaystyle \\frac{\\delta_{x}^{2} + \\delta_{y}^{2}}{4 \\sqrt{x^{2} + y^{2}}}$"
      ],
      "text/plain": [
       "       2           2\n",
       "\\deltaₓ  + \\delta_y \n",
       "────────────────────\n",
       "        _________   \n",
       "       ╱  2    2    \n",
       "   4⋅╲╱  x  + y     "
      ]
     },
     "execution_count": 43,
     "metadata": {},
     "output_type": "execute_result"
    }
   ],
   "source": [
    "deg = 2\n",
    "# ss = Taylor_polynomial_sympy(function_expression=k,     # 验证 ds^2 = ds_1^2 + ds_2^2\n",
    "ss = Taylor_polynomial_sympy(function_expression=pr2, # 计算 ds^2\n",
    "                             variable_list=[dx, dy],\n",
    "                             evaluation_point=[0, 0],\n",
    "                             degree=deg)\n",
    "# ss = k.series(dx, x0=0, n=deg).removeO().series(dy, x0=0, n=deg).removeO()\n",
    "ss.simplify()\n",
    "# print(sympy.latex(ss))"
   ]
  },
  {
   "cell_type": "code",
   "execution_count": 44,
   "metadata": {},
   "outputs": [
    {
     "data": {
      "text/latex": [
       "$\\displaystyle 0$"
      ],
      "text/plain": [
       "0"
      ]
     },
     "execution_count": 44,
     "metadata": {},
     "output_type": "execute_result"
    }
   ],
   "source": [
    "A = 1 / (4 * sympy.sqrt(x**2 + y**2))\n",
    "B = A\n",
    "K = -1 / (A * B) * ((A.diff(y) / B).diff(y) + (B.diff(x) / A).diff(x))  # 完整表达式\n",
    "# K = -((A.diff(y) / B).diff(y) + (B.diff(x) / A).diff(x))              # 主要部分\n",
    "K.simplify()\n",
    "# print(sympy.latex(K))"
   ]
  },
  {
   "cell_type": "code",
   "execution_count": 45,
   "metadata": {},
   "outputs": [
    {
     "data": {
      "text/latex": [
       "$\\displaystyle - \\frac{\\delta_{x}}{2} + \\sqrt{- x + \\sqrt{x^{2} + y^{2}}} \\sqrt{- \\delta_{x} - x + \\sqrt{\\delta_{x}^{2} + 2 \\delta_{x} x + \\delta_{y}^{2} + 2 \\delta_{y} y + x^{2} + y^{2}}} - \\sqrt{x + \\sqrt{x^{2} + y^{2}}} \\sqrt{\\delta_{x} + x + \\sqrt{\\delta_{x}^{2} + 2 \\delta_{x} x + x^{2} + y^{2}}} + \\sqrt{x + \\sqrt{x^{2} + y^{2}}} \\sqrt{\\delta_{x} + x + \\sqrt{\\delta_{x}^{2} + 2 \\delta_{x} x + \\delta_{y}^{2} + 2 \\delta_{y} y + x^{2} + y^{2}}} - \\frac{\\sqrt{x^{2} + y^{2}}}{2} - \\sqrt{- \\delta_{x} - x + \\sqrt{\\delta_{x}^{2} + 2 \\delta_{x} x + x^{2} + y^{2}}} \\sqrt{- \\delta_{x} - x + \\sqrt{\\delta_{x}^{2} + 2 \\delta_{x} x + \\delta_{y}^{2} + 2 \\delta_{y} y + x^{2} + y^{2}}} + \\sqrt{\\delta_{x}^{2} + 2 \\delta_{x} x + x^{2} + y^{2}} - \\frac{\\sqrt{\\delta_{x}^{2} + 2 \\delta_{x} x + \\delta_{y}^{2} + 2 \\delta_{y} y + x^{2} + y^{2}}}{2}$"
      ],
      "text/plain": [
       "                ___________________     ______________________________________\n",
       "               ╱         _________     ╱                   ___________________\n",
       "  \\deltaₓ     ╱         ╱  2    2     ╱                   ╱        2          \n",
       "- ─────── + ╲╱   -x + ╲╱  x  + y   ⋅╲╱   -\\deltaₓ - x + ╲╱  \\deltaₓ  + 2⋅\\delt\n",
       "     2                                                                        \n",
       "\n",
       "___________________________________________       __________________     _____\n",
       "__________________________________________       ╱        _________     ╱     \n",
       "               2                   2    2       ╱        ╱  2    2     ╱      \n",
       "aₓ⋅x + \\delta_y  + 2⋅\\delta_y⋅y + x  + y    - ╲╱   x + ╲╱  x  + y   ⋅╲╱   \\del\n",
       "                                                                              \n",
       "\n",
       "________________________________________________       __________________     \n",
       "             __________________________________       ╱        _________     ╱\n",
       "            ╱        2                  2    2       ╱        ╱  2    2     ╱ \n",
       "taₓ + x + ╲╱  \\deltaₓ  + 2⋅\\deltaₓ⋅x + x  + y    + ╲╱   x + ╲╱  x  + y   ⋅╲╱  \n",
       "                                                                              \n",
       "\n",
       "______________________________________________________________________________\n",
       "                  ____________________________________________________________\n",
       "                 ╱        2                         2                   2    2\n",
       " \\deltaₓ + x + ╲╱  \\deltaₓ  + 2⋅\\deltaₓ⋅x + \\delta_y  + 2⋅\\delta_y⋅y + x  + y \n",
       "                                                                              \n",
       "\n",
       "__      _________       ______________________________________________________\n",
       "_      ╱  2    2       ╱                   __________________________________ \n",
       "     ╲╱  x  + y       ╱                   ╱        2                  2    2  \n",
       "   - ──────────── - ╲╱   -\\deltaₓ - x + ╲╱  \\deltaₓ  + 2⋅\\deltaₓ⋅x + x  + y   \n",
       "          2                                                                   \n",
       "\n",
       "     _________________________________________________________________________\n",
       "    ╱                   ______________________________________________________\n",
       "   ╱                   ╱        2                         2                   \n",
       "⋅╲╱   -\\deltaₓ - x + ╲╱  \\deltaₓ  + 2⋅\\deltaₓ⋅x + \\delta_y  + 2⋅\\delta_y⋅y + x\n",
       "                                                                              \n",
       "\n",
       "________                                              ________________________\n",
       "_______       __________________________________     ╱        2               \n",
       "2    2       ╱        2                  2    2    ╲╱  \\deltaₓ  + 2⋅\\deltaₓ⋅x \n",
       "  + y    + ╲╱  \\deltaₓ  + 2⋅\\deltaₓ⋅x + x  + y   - ───────────────────────────\n",
       "                                                                              \n",
       "\n",
       "_____________________________________\n",
       "          2                   2    2 \n",
       "+ \\delta_y  + 2⋅\\delta_y⋅y + x  + y  \n",
       "─────────────────────────────────────\n",
       "    2                                "
      ]
     },
     "execution_count": 45,
     "metadata": {},
     "output_type": "execute_result"
    }
   ],
   "source": [
    "k = sympy.simplify(k.expand())\n",
    "k"
   ]
  },
  {
   "cell_type": "code",
   "execution_count": 46,
   "metadata": {},
   "outputs": [
    {
     "data": {
      "text/latex": [
       "$\\displaystyle 0$"
      ],
      "text/plain": [
       "0"
      ]
     },
     "execution_count": 46,
     "metadata": {},
     "output_type": "execute_result"
    }
   ],
   "source": [
    "P = sympy.limit(sympy.limit(k,dx,0), dy, 0)\n",
    "P = sympy.simplify(P)\n",
    "P"
   ]
  },
  {
   "cell_type": "code",
   "execution_count": 47,
   "metadata": {},
   "outputs": [],
   "source": [
    "u = sympy.Symbol('u')\n",
    "v = sympy.Symbol('v')\n",
    "du = sympy.Symbol('\\\\delta_u')\n",
    "dv = sympy.Symbol('\\\\delta_v')\n",
    "\n",
    "p_1x = u**2 - v**2\n",
    "p_1y = 2 * u * v\n",
    "\n",
    "p_2x = (u + du)**2 - v**2\n",
    "p_2y = 2 * (u + du) * v\n",
    "\n",
    "p_3x = (u + du)**2 - (v + dv)**2\n",
    "p_3y = 2 * (u + du) * (v + dv)"
   ]
  },
  {
   "cell_type": "code",
   "execution_count": 48,
   "metadata": {},
   "outputs": [
    {
     "data": {
      "text/latex": [
       "$\\displaystyle \\left( \\delta_{u}^{2} \\left(\\delta_{u}^{2} + 4 \\delta_{u} u + 4 u^{2} + 4 v^{2}\\right), \\  \\delta_{v}^{2} \\cdot \\left(4 \\delta_{u}^{2} + 8 \\delta_{u} u + \\delta_{v}^{2} + 4 \\delta_{v} v + 4 u^{2} + 4 v^{2}\\right), \\  \\delta_{u}^{4} + 4 \\delta_{u}^{3} u + 2 \\delta_{u}^{2} \\delta_{v}^{2} + 4 \\delta_{u}^{2} \\delta_{v} v + 4 \\delta_{u}^{2} u^{2} + 4 \\delta_{u}^{2} v^{2} + 4 \\delta_{u} \\delta_{v}^{2} u + \\delta_{v}^{4} + 4 \\delta_{v}^{3} v + 4 \\delta_{v}^{2} u^{2} + 4 \\delta_{v}^{2} v^{2}\\right)$"
      ],
      "text/plain": [
       "⎛       2 ⎛       2                    2      2⎞         2 ⎛         2        \n",
       "⎝\\deltaᵤ ⋅⎝\\deltaᵤ  + 4⋅\\deltaᵤ⋅u + 4⋅u  + 4⋅v ⎠, \\deltaᵥ ⋅⎝4⋅\\deltaᵤ  + 8⋅\\de\n",
       "\n",
       "                2                    2      2⎞         4            3         \n",
       "ltaᵤ⋅u + \\deltaᵥ  + 4⋅\\deltaᵥ⋅v + 4⋅u  + 4⋅v ⎠, \\deltaᵤ  + 4⋅\\deltaᵤ ⋅u + 2⋅\\d\n",
       "\n",
       "     2        2            2                      2  2            2  2        \n",
       "eltaᵤ ⋅\\deltaᵥ  + 4⋅\\deltaᵤ ⋅\\deltaᵥ⋅v + 4⋅\\deltaᵤ ⋅u  + 4⋅\\deltaᵤ ⋅v  + 4⋅\\de\n",
       "\n",
       "            2            4            3              2  2            2  2⎞\n",
       "ltaᵤ⋅\\deltaᵥ ⋅u + \\deltaᵥ  + 4⋅\\deltaᵥ ⋅v + 4⋅\\deltaᵥ ⋅u  + 4⋅\\deltaᵥ ⋅v ⎠"
      ]
     },
     "execution_count": 48,
     "metadata": {},
     "output_type": "execute_result"
    }
   ],
   "source": [
    "ds1 = (p_1x - p_2x)**2 + (p_1y - p_2y)**2\n",
    "ds2 = (p_2x - p_3x)**2 + (p_2y - p_3y)**2\n",
    "ds = (p_1x - p_3x)**2 + (p_1y - p_3y)**2\n",
    "ds1.expand(), ds2.expand(), ds.expand()\n",
    "\n",
    "ds1 = sympy.simplify(ds1.expand())\n",
    "ds2 = sympy.simplify(ds2.expand())\n",
    "ds = sympy.simplify(ds.expand())\n",
    "ds1, ds2, ds\n",
    "# print(sympy.latex(ds1))\n",
    "# print(sympy.latex(ds2))\n",
    "# print(sympy.latex(ds))"
   ]
  },
  {
   "cell_type": "code",
   "execution_count": 49,
   "metadata": {},
   "outputs": [
    {
     "name": "stdout",
     "output_type": "stream",
     "text": [
      "2 \\delta_{u} \\delta_{v} \\left(- \\delta_{u} \\delta_{v} + 2 \\delta_{u} v - 2 \\delta_{v} u\\right)\n"
     ]
    }
   ],
   "source": [
    "m = sympy.simplify((ds - (ds1 + ds2)).expand())\n",
    "print(sympy.latex(m))"
   ]
  },
  {
   "cell_type": "code",
   "execution_count": 52,
   "metadata": {},
   "outputs": [
    {
     "data": {
      "text/latex": [
       "$\\displaystyle \\frac{64 u^{2}}{\\left(4 u^{2} + 4 v^{2}\\right)^{2}} + \\frac{64 v^{2}}{\\left(4 u^{2} + 4 v^{2}\\right)^{2}} - \\frac{16}{4 u^{2} + 4 v^{2}}$"
      ],
      "text/plain": [
       "        2                2                   \n",
       "    64⋅u             64⋅v              16    \n",
       "────────────── + ────────────── - ───────────\n",
       "             2                2      2      2\n",
       "⎛   2      2⎞    ⎛   2      2⎞    4⋅u  + 4⋅v \n",
       "⎝4⋅u  + 4⋅v ⎠    ⎝4⋅u  + 4⋅v ⎠               "
      ]
     },
     "execution_count": 52,
     "metadata": {},
     "output_type": "execute_result"
    }
   ],
   "source": [
    "A = 4 * (u**2 + v**2)\n",
    "B = 4 * (u**2 + v**2)\n",
    "K = -1 / (A * B) * ((A.diff(v) / B).diff(v) + (B.diff(u) / A).diff(u))\n",
    "K = -((A.diff(v) / B).diff(v) + (B.diff(u) / A).diff(u))\n",
    "# K.simplify()\n",
    "# print(sympy.latex(K))\n",
    "K"
   ]
  }
 ],
 "metadata": {
  "kernelspec": {
   "display_name": "Python 3",
   "language": "python",
   "name": "python3"
  },
  "language_info": {
   "codemirror_mode": {
    "name": "ipython",
    "version": 3
   },
   "file_extension": ".py",
   "mimetype": "text/x-python",
   "name": "python",
   "nbconvert_exporter": "python",
   "pygments_lexer": "ipython3",
   "version": "3.12.3"
  }
 },
 "nbformat": 4,
 "nbformat_minor": 2
}
