{
 "cells": [
  {
   "cell_type": "code",
   "execution_count": 2,
   "metadata": {},
   "outputs": [],
   "source": [
    "import sympy\n",
    "sympy.init_printing()"
   ]
  },
  {
   "cell_type": "code",
   "execution_count": 3,
   "metadata": {},
   "outputs": [
    {
     "data": {
      "image/png": "[encoded data removed]",
      "text/latex": [
       "$\\displaystyle \\left( z, \\  x, \\  y\\right)$"
      ],
      "text/plain": [
       "(z, x, y)"
      ]
     },
     "execution_count": 3,
     "metadata": {},
     "output_type": "execute_result"
    }
   ],
   "source": [
    "z, x, y, x0, y0, dx, dy = sympy.symbols('z, x, y, x_0, y_0, \\\\delta_x, \\\\delta_y')\n",
    "z, x, y"
   ]
  },
  {
   "cell_type": "code",
   "execution_count": 4,
   "metadata": {},
   "outputs": [],
   "source": [
    "def Taylor_polynomial_sympy(function_expression, variable_list, evaluation_point, degree):\n",
    "    \"\"\"\n",
    "    Mathematical formulation reference:\n",
    "    https://math.libretexts.org/Bookshelves/Calculus/Supplemental_Modules_(Calculus)/Multivariable_Calculus/3%3A_Topics_in_Partial_Derivatives/Taylor__Polynomials_of_Functions_of_Two_Variables\n",
    "    :param function_expression: Sympy expression of the function\n",
    "    :param variable_list: list. All variables to be approximated (to be \"Taylorized\")\n",
    "    :param evaluation_point: list. Coordinates, where the function will be expressed\n",
    "    :param degree: int. Total degree of the Taylor polynomial\n",
    "    :return: Returns a Sympy expression of the Taylor series up to a given degree, of a given multivariate expression, approximated as a multivariate polynomial evaluated at the evaluation_point\n",
    "    \"\"\"\n",
    "    from sympy import factorial, Matrix, prod\n",
    "    import itertools\n",
    "\n",
    "    n_var = len(variable_list)\n",
    "    point_coordinates = [(i, j) for i, j in (zip(variable_list, evaluation_point))]  # list of tuples with variables and their evaluation_point coordinates, to later perform substitution\n",
    "\n",
    "    deriv_orders = list(itertools.product(range(degree + 1), repeat=n_var))  # list with exponentials of the partial derivatives\n",
    "    deriv_orders = [deriv_orders[i] for i in range(len(deriv_orders)) if sum(deriv_orders[i]) <= degree]  # Discarding some higher-order terms\n",
    "    n_terms = len(deriv_orders)\n",
    "    deriv_orders_as_input = [list(sum(list(zip(variable_list, deriv_orders[i])), ())) for i in range(n_terms)]  # Individual degree of each partial derivative, of each term\n",
    "\n",
    "    polynomial = 0\n",
    "    for i in range(n_terms):\n",
    "        partial_derivatives_at_point = function_expression.diff(*deriv_orders_as_input[i]).subs(point_coordinates)  # e.g. df/(dx*dy**2)\n",
    "        denominator = prod([factorial(j) for j in deriv_orders[i]])  # e.g. (1! * 2!)\n",
    "        distances_powered = prod([(Matrix(variable_list) - Matrix(evaluation_point))[j] ** deriv_orders[i][j] for j in range(n_var)])  # e.g. (x-x0)*(y-y0)**2\n",
    "        polynomial += partial_derivatives_at_point / denominator * distances_powered\n",
    "    return polynomial"
   ]
  },
  {
   "cell_type": "code",
   "execution_count": 5,
   "metadata": {},
   "outputs": [],
   "source": [
    "def gaussian_curv(A, B, u, v):\n",
    "    _coeff = -1 / (A * B)\n",
    "    _item1 = (A.diff(v) / B).diff(v)\n",
    "    _item2 = (B.diff(u) / A).diff(u)\n",
    "    return _coeff * (_item1 + _item2)"
   ]
  },
  {
   "cell_type": "code",
   "execution_count": 28,
   "metadata": {},
   "outputs": [],
   "source": [
    "def function(x, y):\n",
    "    # return sympy.exp(x**2 + 4 * y**2) - 1\n",
    "    return sympy.ln(sympy.cos(y)) - sympy.ln(sympy.cos(2*x))"
   ]
  },
  {
   "cell_type": "code",
   "execution_count": 29,
   "metadata": {},
   "outputs": [
    {
     "data": {
      "image/png": "[encoded data removed]",
      "text/latex": [
       "$\\displaystyle 2 x^{2} - \\frac{y^{2}}{2}$"
      ],
      "text/plain": [
       "        2\n",
       "   2   y \n",
       "2⋅x  - ──\n",
       "       2 "
      ]
     },
     "execution_count": 29,
     "metadata": {},
     "output_type": "execute_result"
    }
   ],
   "source": [
    "z = function(x, y)\n",
    "p0 = [0, 0]\n",
    "# p0 = [x0, y0]\n",
    "exp = Taylor_polynomial_sympy(z, [x, y], p0, 2)\n",
    "exp"
   ]
  },
  {
   "cell_type": "code",
   "execution_count": 34,
   "metadata": {},
   "outputs": [
    {
     "data": {
      "image/png": "[encoded data removed]",
      "text/latex": [
       "$\\displaystyle \\left(\\log{\\left(\\cos{\\left(2 x \\right)} \\right)} - \\log{\\left(\\cos{\\left(y \\right)} \\right)} - \\log{\\left(\\cos{\\left(2 \\delta_{x} + 2 x \\right)} \\right)} + \\log{\\left(\\cos{\\left(\\delta_{y} + y \\right)} \\right)}\\right)^{2}$"
      ],
      "text/plain": [
       "                                                                               ↪\n",
       "(log(cos(2⋅x)) - log(cos(y)) - log(cos(2⋅\\deltaₓ + 2⋅x)) + log(cos(\\delta_y +  ↪\n",
       "\n",
       "↪     2\n",
       "↪ y))) "
      ]
     },
     "execution_count": 34,
     "metadata": {},
     "output_type": "execute_result"
    }
   ],
   "source": [
    "ds1 = function(x + dx, y) - function(x, y)\n",
    "ds2 = function(x + dx, y + dy) - function(x + dx, y)\n",
    "ds = function(x + dx, y + dy) - function(x, y)\n",
    "ds1 = ds1 ** 2\n",
    "ds2 = ds2 ** 2\n",
    "ds = ds**2\n",
    "# ds1, ds2, ds\n",
    "# ds2\n",
    "ds"
   ]
  },
  {
   "cell_type": "code",
   "execution_count": 37,
   "metadata": {},
   "outputs": [
    {
     "data": {
      "image/png": "[encoded data removed]",
      "text/latex": [
       "$\\displaystyle \\frac{4 \\delta_{x}^{2} \\sin^{2}{\\left(2 x \\right)} \\cos^{2}{\\left(y \\right)} - \\frac{\\delta_{x} \\delta_{y} \\left(\\cos{\\left(4 x - 2 y \\right)} - \\cos{\\left(4 x + 2 y \\right)}\\right)}{2} + \\delta_{y}^{2} \\sin^{2}{\\left(y \\right)} \\cos^{2}{\\left(2 x \\right)}}{\\cos^{2}{\\left(2 x \\right)} \\cos^{2}{\\left(y \\right)}}$"
      ],
      "text/plain": [
       "         2    2         2      \\deltaₓ⋅\\delta_y⋅(cos(4⋅x - 2⋅y) - cos(4⋅x + 2⋅ ↪\n",
       "4⋅\\deltaₓ ⋅sin (2⋅x)⋅cos (y) - ─────────────────────────────────────────────── ↪\n",
       "                                                       2                       ↪\n",
       "────────────────────────────────────────────────────────────────────────────── ↪\n",
       "                                                  2         2                  ↪\n",
       "                                               cos (2⋅x)⋅cos (y)               ↪\n",
       "\n",
       "↪ y))           2    2       2     \n",
       "↪ ─── + \\delta_y ⋅sin (y)⋅cos (2⋅x)\n",
       "↪                                  \n",
       "↪ ─────────────────────────────────\n",
       "↪                                  \n",
       "↪                                  "
      ]
     },
     "execution_count": 37,
     "metadata": {},
     "output_type": "execute_result"
    }
   ],
   "source": [
    "ds1_exp = Taylor_polynomial_sympy(ds1, [dx, dy], [0, 0], 2)\n",
    "ds2_exp = Taylor_polynomial_sympy(ds2, [dx, dy], [0, 0], 2)\n",
    "ds_exp = Taylor_polynomial_sympy(ds, [dx, dy], [0, 0], 2)\n",
    "ds1_exp = ds1_exp.expand().simplify()\n",
    "ds2_exp = ds2_exp.expand().simplify()\n",
    "ds_exp = ds_exp.expand().simplify()\n",
    "# ds1_exp, ds2_exp, ds_exp\n",
    "ds_exp.simplify()"
   ]
  },
  {
   "cell_type": "code",
   "execution_count": 38,
   "metadata": {},
   "outputs": [
    {
     "data": {
      "image/png": "[encoded data removed]",
      "text/latex": [
       "$\\displaystyle \\left( 4 \\tan^{2}{\\left(2 x \\right)}, \\  \\tan^{2}{\\left(y \\right)}\\right)$"
      ],
      "text/plain": [
       "⎛     2          2   ⎞\n",
       "⎝4⋅tan (2⋅x), tan (y)⎠"
      ]
     },
     "execution_count": 38,
     "metadata": {},
     "output_type": "execute_result"
    }
   ],
   "source": [
    "ds1_exp = ds1_exp.subs({dx:1})\n",
    "ds2_exp = ds2_exp.subs({dy:1})\n",
    "ds1_exp, ds2_exp"
   ]
  },
  {
   "cell_type": "code",
   "execution_count": 57,
   "metadata": {},
   "outputs": [
    {
     "data": {
      "image/png": "[encoded data removed]",
      "text/latex": [
       "$\\displaystyle - \\frac{4 \\cos^{2}{\\left(2 x \\right)} \\cos^{2}{\\left(y \\right)}}{\\left(16 \\sin^{4}{\\left(x \\right)} \\sin^{2}{\\left(y \\right)} - 12 \\sin^{4}{\\left(x \\right)} - 16 \\sin^{2}{\\left(x \\right)} \\sin^{2}{\\left(y \\right)} + 12 \\sin^{2}{\\left(x \\right)} + 1\\right)^{2}}$"
      ],
      "text/plain": [
       "                               2         2                              \n",
       "                         -4⋅cos (2⋅x)⋅cos (y)                           \n",
       "────────────────────────────────────────────────────────────────────────\n",
       "                                                                       2\n",
       "⎛      4       2            4            2       2            2       ⎞ \n",
       "⎝16⋅sin (x)⋅sin (y) - 12⋅sin (x) - 16⋅sin (x)⋅sin (y) + 12⋅sin (x) + 1⎠ "
      ]
     },
     "execution_count": 57,
     "metadata": {},
     "output_type": "execute_result"
    }
   ],
   "source": [
    "z\n",
    "Fx = z.diff(x)\n",
    "Fy = z.diff(y)\n",
    "Fxx = Fx.diff(x)\n",
    "Fyy = Fy.diff(y)\n",
    "Fxy = Fx.diff(y)\n",
    "\n",
    "# Fx, Fy\n",
    "# Fxx, Fyy, Fxy\n",
    "# (Fxx * Fyy - Fxy**2).expand().simplify()\n",
    "# (1 / (1 + Fx**2 + Fy**2)**2).expand().simplify()\n",
    "\n",
    "KK = (Fxx * Fyy - Fxy**2) / (1 + Fx**2 + Fy**2)**2\n",
    "KK.expand().simplify()\n",
    "# KK.subs({x:0,y:0})"
   ]
  }
 ],
 "metadata": {
  "kernelspec": {
   "display_name": "Python 3",
   "language": "python",
   "name": "python3"
  },
  "language_info": {
   "codemirror_mode": {
    "name": "ipython",
    "version": 3
   },
   "file_extension": ".py",
   "mimetype": "text/x-python",
   "name": "python",
   "nbconvert_exporter": "python",
   "pygments_lexer": "ipython3",
   "version": "3.12.4"
  }
 },
 "nbformat": 4,
 "nbformat_minor": 2
}
