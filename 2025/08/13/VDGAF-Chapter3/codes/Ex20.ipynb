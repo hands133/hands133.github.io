{
 "cells": [
  {
   "cell_type": "code",
   "execution_count": 21,
   "metadata": {},
   "outputs": [],
   "source": [
    "import sympy\n",
    "sympy.init_printing()"
   ]
  },
  {
   "cell_type": "code",
   "execution_count": 22,
   "metadata": {},
   "outputs": [
    {
     "data": {
      "image/png": "[encoded data removed]",
      "text/latex": [
       "$\\displaystyle \\left( r, \\  \\theta, \\  n\\right)$"
      ],
      "text/plain": [
       "(r, \\theta, n)"
      ]
     },
     "execution_count": 22,
     "metadata": {},
     "output_type": "execute_result"
    }
   ],
   "source": [
    "r, theta = sympy.symbols('r, \\\\theta', real=True)\n",
    "n = sympy.symbols('n', integer=True)\n",
    "r, theta, n"
   ]
  },
  {
   "cell_type": "code",
   "execution_count": 23,
   "metadata": {},
   "outputs": [
    {
     "data": {
      "image/png": "[encoded data removed]",
      "text/latex": [
       "$\\displaystyle r^{n} \\cos{\\left(\\theta n \\right)}$"
      ],
      "text/plain": [
       " n              \n",
       "r ⋅cos(\\theta⋅n)"
      ]
     },
     "execution_count": 23,
     "metadata": {},
     "output_type": "execute_result"
    }
   ],
   "source": [
    "z = sympy.Pow(r, n) * sympy.cos(n * theta)\n",
    "z"
   ]
  },
  {
   "cell_type": "code",
   "execution_count": 24,
   "metadata": {},
   "outputs": [
    {
     "data": {
      "image/png": "[encoded data removed]",
      "text/latex": [
       "$\\displaystyle \\left( n r^{n - 1} \\cos{\\left(\\theta n \\right)}, \\  - n r^{n} \\sin{\\left(\\theta n \\right)}, \\  n r^{n - 2} \\left(n - 1\\right) \\cos{\\left(\\theta n \\right)}, \\  - n^{2} r^{n} \\cos{\\left(\\theta n \\right)}, \\  - n^{2} r^{n - 1} \\sin{\\left(\\theta n \\right)}, \\  - n^{2} r^{n - 1} \\sin{\\left(\\theta n \\right)}\\right)$"
      ],
      "text/plain": [
       "⎛   n - 1                    n                   n - 2                         ↪\n",
       "⎝n⋅r     ⋅cos(\\theta⋅n), -n⋅r ⋅sin(\\theta⋅n), n⋅r     ⋅(n - 1)⋅cos(\\theta⋅n),  ↪\n",
       "\n",
       "↪   2  n                  2  n - 1                  2  n - 1              ⎞\n",
       "↪ -n ⋅r ⋅cos(\\theta⋅n), -n ⋅r     ⋅sin(\\theta⋅n), -n ⋅r     ⋅sin(\\theta⋅n)⎠"
      ]
     },
     "execution_count": 24,
     "metadata": {},
     "output_type": "execute_result"
    }
   ],
   "source": [
    "zr = z.diff(r).simplify()\n",
    "zt = z.diff(theta).simplify()\n",
    "z2r = zr.diff(r).simplify()\n",
    "z2t = zt.diff(theta).simplify()\n",
    "zrt = zr.diff(theta).simplify()\n",
    "ztr = zt.diff(r).simplify()\n",
    "zr, zt, z2r, z2t, zrt, ztr"
   ]
  },
  {
   "cell_type": "code",
   "execution_count": 25,
   "metadata": {},
   "outputs": [
    {
     "data": {
      "image/png": "[encoded data removed]",
      "text/latex": [
       "$\\displaystyle - \\frac{n^{2} r^{2 n} \\left(n - 1\\right)^{2} \\left(\\sin^{2}{\\left(\\theta n \\right)} + \\cos^{2}{\\left(\\theta n \\right)}\\right)}{\\left(n^{2} r^{2 n} \\sin^{2}{\\left(\\theta n \\right)} + r^{2} \\left(n^{2} r^{2 n - 2} \\cos^{2}{\\left(\\theta n \\right)} + 1\\right)\\right)^{2}}$"
      ],
      "text/plain": [
       "       2  2⋅n        2 ⎛   2                2          ⎞       \n",
       "     -n ⋅r   ⋅(n - 1) ⋅⎝sin (\\theta⋅n) + cos (\\theta⋅n)⎠       \n",
       "───────────────────────────────────────────────────────────────\n",
       "                                                              2\n",
       "⎛ 2  2⋅n    2              2 ⎛ 2  2⋅n - 2    2              ⎞⎞ \n",
       "⎝n ⋅r   ⋅sin (\\theta⋅n) + r ⋅⎝n ⋅r       ⋅cos (\\theta⋅n) + 1⎠⎠ "
      ]
     },
     "execution_count": 25,
     "metadata": {},
     "output_type": "execute_result"
    }
   ],
   "source": [
    "denom = r**2 * z2r * (z2t + r * zr) - (zt - r * zrt)**2\n",
    "dom = (r**2 * (1 + zr**2) + zt**2)**2\n",
    "K = denom / dom\n",
    "K = K.simplify()\n",
    "K"
   ]
  },
  {
   "cell_type": "code",
   "execution_count": 26,
   "metadata": {},
   "outputs": [
    {
     "data": {
      "image/png": "[encoded data removed]",
      "text/latex": [
       "$\\displaystyle n r^{2} r^{n - 2} \\left(n - 1\\right) \\left(- n^{2} r^{n} \\cos{\\left(\\theta n \\right)} + n r r^{n - 1} \\cos{\\left(\\theta n \\right)}\\right) \\cos{\\left(\\theta n \\right)} - \\left(n^{2} r r^{n - 1} \\sin{\\left(\\theta n \\right)} - n r^{n} \\sin{\\left(\\theta n \\right)}\\right)^{2}$"
      ],
      "text/plain": [
       "                                                                               ↪\n",
       "   2  n - 2         ⎛   2  n                      n - 1              ⎞         ↪\n",
       "n⋅r ⋅r     ⋅(n - 1)⋅⎝- n ⋅r ⋅cos(\\theta⋅n) + n⋅r⋅r     ⋅cos(\\theta⋅n)⎠⋅cos(\\th ↪\n",
       "\n",
       "↪                                                          2\n",
       "↪          ⎛ 2    n - 1                    n              ⎞ \n",
       "↪ eta⋅n) - ⎝n ⋅r⋅r     ⋅sin(\\theta⋅n) - n⋅r ⋅sin(\\theta⋅n)⎠ "
      ]
     },
     "execution_count": 26,
     "metadata": {},
     "output_type": "execute_result"
    }
   ],
   "source": [
    "denom"
   ]
  },
  {
   "cell_type": "code",
   "execution_count": 27,
   "metadata": {},
   "outputs": [
    {
     "data": {
      "image/png": "[encoded data removed]",
      "text/latex": [
       "$\\displaystyle - n^{2} r^{2 n} \\left(n - 1\\right)^{2} \\left(\\sin^{2}{\\left(\\theta n \\right)} + \\cos^{2}{\\left(\\theta n \\right)}\\right)$"
      ],
      "text/plain": [
       "  2  2⋅n        2 ⎛   2                2          ⎞\n",
       "-n ⋅r   ⋅(n - 1) ⋅⎝sin (\\theta⋅n) + cos (\\theta⋅n)⎠"
      ]
     },
     "execution_count": 27,
     "metadata": {},
     "output_type": "execute_result"
    }
   ],
   "source": [
    "denom = denom.simplify()\n",
    "denom"
   ]
  },
  {
   "cell_type": "code",
   "execution_count": 28,
   "metadata": {},
   "outputs": [
    {
     "data": {
      "image/png": "[encoded data removed]",
      "text/latex": [
       "$\\displaystyle \\left(n^{2} r^{2 n} \\sin^{2}{\\left(\\theta n \\right)} + r^{2} \\left(n^{2} r^{2 n - 2} \\cos^{2}{\\left(\\theta n \\right)} + 1\\right)\\right)^{2}$"
      ],
      "text/plain": [
       "                                                              2\n",
       "⎛ 2  2⋅n    2              2 ⎛ 2  2⋅n - 2    2              ⎞⎞ \n",
       "⎝n ⋅r   ⋅sin (\\theta⋅n) + r ⋅⎝n ⋅r       ⋅cos (\\theta⋅n) + 1⎠⎠ "
      ]
     },
     "execution_count": 28,
     "metadata": {},
     "output_type": "execute_result"
    }
   ],
   "source": [
    "dom = dom.simplify()\n",
    "dom"
   ]
  }
 ],
 "metadata": {
  "kernelspec": {
   "display_name": "Python 3",
   "language": "python",
   "name": "python3"
  },
  "language_info": {
   "codemirror_mode": {
    "name": "ipython",
    "version": 3
   },
   "file_extension": ".py",
   "mimetype": "text/x-python",
   "name": "python",
   "nbconvert_exporter": "python",
   "pygments_lexer": "ipython3",
   "version": "3.12.4"
  }
 },
 "nbformat": 4,
 "nbformat_minor": 2
}
