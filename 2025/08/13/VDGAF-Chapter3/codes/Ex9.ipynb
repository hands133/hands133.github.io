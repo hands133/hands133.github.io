{
 "cells": [
  {
   "cell_type": "code",
   "execution_count": 1,
   "metadata": {},
   "outputs": [],
   "source": [
    "import sympy\n",
    "sympy.init_printing()"
   ]
  },
  {
   "cell_type": "code",
   "execution_count": 2,
   "metadata": {},
   "outputs": [
    {
     "data": {
      "image/png": "[encoded data removed]",
      "text/latex": [
       "$\\displaystyle r$"
      ],
      "text/plain": [
       "r"
      ]
     },
     "execution_count": 2,
     "metadata": {},
     "output_type": "execute_result"
    }
   ],
   "source": [
    "r = sympy.symbols('r')\n",
    "r"
   ]
  },
  {
   "cell_type": "code",
   "execution_count": 3,
   "metadata": {},
   "outputs": [
    {
     "data": {
      "image/png": "[encoded data removed]",
      "text/latex": [
       "$\\displaystyle \\left( - r e^{- \\frac{r^{2}}{2}}, \\  \\left(r^{2} - 1\\right) e^{- \\frac{r^{2}}{2}}\\right)$"
      ],
      "text/plain": [
       "⎛      2               2 ⎞\n",
       "⎜    -r              -r  ⎟\n",
       "⎜    ────            ────⎟\n",
       "⎜     2    ⎛ 2    ⎞   2  ⎟\n",
       "⎝-r⋅ℯ    , ⎝r  - 1⎠⋅ℯ    ⎠"
      ]
     },
     "execution_count": 3,
     "metadata": {},
     "output_type": "execute_result"
    }
   ],
   "source": [
    "z = sympy.exp(-r**2 / 2)\n",
    "dz = z.diff(r).simplify()\n",
    "d2z = dz.diff(r).simplify()\n",
    "dz, d2z"
   ]
  },
  {
   "cell_type": "code",
   "execution_count": 6,
   "metadata": {},
   "outputs": [
    {
     "data": {
      "image/png": "[encoded data removed]",
      "text/latex": [
       "$\\displaystyle \\frac{\\left(1 - r^{2}\\right) e^{r^{2}}}{\\left(r^{2} + e^{r^{2}}\\right)^{2}}$"
      ],
      "text/plain": [
       "          ⎛ 2⎞\n",
       "⎛     2⎞  ⎝r ⎠\n",
       "⎝1 - r ⎠⋅ℯ    \n",
       "──────────────\n",
       "            2 \n",
       "⎛      ⎛ 2⎞⎞  \n",
       "⎜ 2    ⎝r ⎠⎟  \n",
       "⎝r  + ℯ    ⎠  "
      ]
     },
     "execution_count": 6,
     "metadata": {},
     "output_type": "execute_result"
    }
   ],
   "source": [
    "Kn = dz * d2z\n",
    "Kd = r * (1 + dz**2)**2\n",
    "K = Kn / Kd\n",
    "K.simplify()"
   ]
  }
 ],
 "metadata": {
  "kernelspec": {
   "display_name": "Python 3",
   "language": "python",
   "name": "python3"
  },
  "language_info": {
   "codemirror_mode": {
    "name": "ipython",
    "version": 3
   },
   "file_extension": ".py",
   "mimetype": "text/x-python",
   "name": "python",
   "nbconvert_exporter": "python",
   "pygments_lexer": "ipython3",
   "version": "3.12.4"
  }
 },
 "nbformat": 4,
 "nbformat_minor": 2
}
