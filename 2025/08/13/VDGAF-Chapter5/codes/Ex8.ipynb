{
 "cells": [
  {
   "cell_type": "code",
   "execution_count": null,
   "metadata": {},
   "outputs": [],
   "source": [
    "import sympy\n",
    "sympy.init_printing()"
   ]
  },
  {
   "cell_type": "code",
   "execution_count": null,
   "metadata": {},
   "outputs": [
    {
     "data": {
      "image/png": "[encoded data removed]",
      "text/latex": [
       "$\\displaystyle \\left( R, \\  \\omega, \\  q, \\  t\\right)$"
      ],
      "text/plain": [
       "(R, \\omega, q, t)"
      ]
     },
     "execution_count": 177,
     "metadata": {},
     "output_type": "execute_result"
    }
   ],
   "source": [
    "a1, a2, a3, a4, b1, b2, b3, b4, c1, c2, c3, c4, d1, d2, d3, d4 = sympy.symbols('R, \\\\omega, q, t')"
   ]
  },
  {
   "cell_type": "code",
   "execution_count": 178,
   "metadata": {},
   "outputs": [],
   "source": [
    "def spiralCurve(t, R, w, q):\n",
    "    x = R * sympy.cos(w * t)\n",
    "    y = R * sympy.sin(w * t)\n",
    "    z = q * t\n",
    "    N = CoordSys3D('')\n",
    "    return x * N.i + y * N.j + z * N.k"
   ]
  },
  {
   "cell_type": "code",
   "execution_count": 179,
   "metadata": {},
   "outputs": [],
   "source": [
    "def vecNorm(vec):\n",
    "    return sympy.sqrt(vec.dot(vec))"
   ]
  },
  {
   "cell_type": "code",
   "execution_count": 180,
   "metadata": {},
   "outputs": [],
   "source": [
    "def buildFresnet(vec, var):\n",
    "    v = vec.diff(var)\n",
    "    dv = v.diff(var)\n",
    "    d2v = dv.diff(var)\n",
    "\n",
    "    v_c_dv = v.cross(dv)\n",
    "\n",
    "    kappa = vecNorm(v_c_dv / vecNorm(v)**3)\n",
    "    tau = v_c_dv.dot(d2v) / vecNorm(v_c_dv)**2 \n",
    "\n",
    "    T = v / vecNorm(v)\n",
    "    B = v.cross(dv) / vecNorm(v.cross(dv))\n",
    "    N = B.cross(T)\n",
    "\n",
    "    return [T.simplify(), B.simplify(), N.simplify()], [kappa.simplify(), tau.simplify()], [v, dv, d2v]"
   ]
  },
  {
   "cell_type": "code",
   "execution_count": 181,
   "metadata": {},
   "outputs": [
    {
     "data": {
      "image/png": "[encoded data removed]",
      "text/latex": [
       "$\\displaystyle \\left(R \\cos{\\left(\\omega t \\right)}\\right)\\mathbf{\\hat{i}_{}} + \\left(R \\sin{\\left(\\omega t \\right)}\\right)\\mathbf{\\hat{j}_{}} + \\left(q t\\right)\\mathbf{\\hat{k}_{}}$"
      ],
      "text/plain": [
       "(R⋅cos(\\omega⋅t)) i_ + (R⋅sin(\\omega⋅t)) j_ + (q⋅t) k_"
      ]
     },
     "execution_count": 181,
     "metadata": {},
     "output_type": "execute_result"
    }
   ],
   "source": [
    "p = spiralCurve(t, R, w, q)\n",
    "p"
   ]
  },
  {
   "cell_type": "code",
   "execution_count": 182,
   "metadata": {},
   "outputs": [],
   "source": [
    "[Tv, Bv, Nv], [kappa, tau], [v, dv, d2v] = buildFresnet(p, t)"
   ]
  },
  {
   "cell_type": "code",
   "execution_count": 183,
   "metadata": {},
   "outputs": [
    {
     "data": {
      "image/png": "[encoded data removed]",
      "text/latex": [
       "$\\displaystyle \\left(- \\frac{R \\omega \\sin{\\left(\\omega t \\right)}}{\\sqrt{R^{2} \\omega^{2} + q^{2}}}\\right)\\mathbf{\\hat{i}_{}} + \\left(\\frac{R \\omega \\cos{\\left(\\omega t \\right)}}{\\sqrt{R^{2} \\omega^{2} + q^{2}}}\\right)\\mathbf{\\hat{j}_{}} + \\left(\\frac{q}{\\sqrt{R^{2} \\omega^{2} + q^{2}}}\\right)\\mathbf{\\hat{k}_{}}$"
      ],
      "text/plain": [
       "⎛-R⋅\\omega⋅sin(\\omega⋅t) ⎞      ⎛R⋅\\omega⋅cos(\\omega⋅t)⎞      ⎛         q     \n",
       "⎜────────────────────────⎟ i_ + ⎜──────────────────────⎟ j_ + ⎜───────────────\n",
       "⎜     _________________  ⎟      ⎜    _________________ ⎟      ⎜   ____________\n",
       "⎜    ╱  2       2    2   ⎟      ⎜   ╱  2       2    2  ⎟      ⎜  ╱  2       2 \n",
       "⎝  ╲╱  R ⋅\\omega  + q    ⎠      ⎝ ╲╱  R ⋅\\omega  + q   ⎠      ⎝╲╱  R ⋅\\omega  \n",
       "\n",
       "     ⎞   \n",
       "─────⎟ k_\n",
       "_____⎟   \n",
       "   2 ⎟   \n",
       "+ q  ⎠   "
      ]
     },
     "execution_count": 183,
     "metadata": {},
     "output_type": "execute_result"
    }
   ],
   "source": [
    "Tv"
   ]
  },
  {
   "cell_type": "code",
   "execution_count": 184,
   "metadata": {},
   "outputs": [
    {
     "data": {
      "image/png": "[encoded data removed]",
      "text/latex": [
       "$\\displaystyle \\left(\\frac{R \\omega^{2} q \\sin{\\left(\\omega t \\right)}}{\\sqrt{R^{2} \\omega^{4} \\left(R^{2} \\omega^{2} + q^{2}\\right)}}\\right)\\mathbf{\\hat{i}_{}} + \\left(- \\frac{R \\omega^{2} q \\cos{\\left(\\omega t \\right)}}{\\sqrt{R^{2} \\omega^{4} \\left(R^{2} \\omega^{2} + q^{2}\\right)}}\\right)\\mathbf{\\hat{j}_{}} + \\left(\\frac{R^{2} \\omega^{3}}{\\sqrt{R^{2} \\omega^{4} \\left(R^{2} \\omega^{2} + q^{2}\\right)}}\\right)\\mathbf{\\hat{k}_{}}$"
      ],
      "text/plain": [
       "⎛            2                    ⎞      ⎛            2                    ⎞  \n",
       "⎜    R⋅\\omega ⋅q⋅sin(\\omega⋅t)    ⎟ i_ + ⎜   -R⋅\\omega ⋅q⋅cos(\\omega⋅t)    ⎟ j\n",
       "⎜─────────────────────────────────⎟      ⎜─────────────────────────────────⎟  \n",
       "⎜   ______________________________⎟      ⎜   ______________________________⎟  \n",
       "⎜  ╱  2       4 ⎛ 2       2    2⎞ ⎟      ⎜  ╱  2       4 ⎛ 2       2    2⎞ ⎟  \n",
       "⎝╲╱  R ⋅\\omega ⋅⎝R ⋅\\omega  + q ⎠ ⎠      ⎝╲╱  R ⋅\\omega ⋅⎝R ⋅\\omega  + q ⎠ ⎠  \n",
       "\n",
       "    ⎛             2       3           ⎞   \n",
       "_ + ⎜            R ⋅\\omega            ⎟ k_\n",
       "    ⎜─────────────────────────────────⎟   \n",
       "    ⎜   ______________________________⎟   \n",
       "    ⎜  ╱  2       4 ⎛ 2       2    2⎞ ⎟   \n",
       "    ⎝╲╱  R ⋅\\omega ⋅⎝R ⋅\\omega  + q ⎠ ⎠   "
      ]
     },
     "execution_count": 184,
     "metadata": {},
     "output_type": "execute_result"
    }
   ],
   "source": [
    "Bv"
   ]
  },
  {
   "cell_type": "code",
   "execution_count": 196,
   "metadata": {},
   "outputs": [
    {
     "data": {
      "image/png": "[encoded data removed]",
      "text/latex": [
       "$\\displaystyle \\left(- \\frac{R \\omega^{2} \\sqrt{R^{2} \\omega^{2} + q^{2}} \\cos{\\left(\\omega t \\right)}}{\\sqrt{R^{2} \\omega^{4} \\left(R^{2} \\omega^{2} + q^{2}\\right)}}\\right)\\mathbf{\\hat{i}_{}} + \\left(- \\frac{R \\omega^{2} \\sqrt{R^{2} \\omega^{2} + q^{2}} \\sin{\\left(\\omega t \\right)}}{\\sqrt{R^{2} \\omega^{4} \\left(R^{2} \\omega^{2} + q^{2}\\right)}}\\right)\\mathbf{\\hat{j}_{}}$"
      ],
      "text/plain": [
       "⎛              _________________               ⎞      ⎛              _________\n",
       "⎜         2   ╱  2       2    2                ⎟ i_ + ⎜         2   ╱  2      \n",
       "⎜-R⋅\\omega ⋅╲╱  R ⋅\\omega  + q  ⋅cos(\\omega⋅t) ⎟      ⎜-R⋅\\omega ⋅╲╱  R ⋅\\omeg\n",
       "⎜──────────────────────────────────────────────⎟      ⎜───────────────────────\n",
       "⎜         ______________________________       ⎟      ⎜         ______________\n",
       "⎜        ╱  2       4 ⎛ 2       2    2⎞        ⎟      ⎜        ╱  2       4 ⎛ \n",
       "⎝      ╲╱  R ⋅\\omega ⋅⎝R ⋅\\omega  + q ⎠        ⎠      ⎝      ╲╱  R ⋅\\omega ⋅⎝R\n",
       "\n",
       "________               ⎞   \n",
       " 2    2                ⎟ j_\n",
       "a  + q  ⋅sin(\\omega⋅t) ⎟   \n",
       "───────────────────────⎟   \n",
       "________________       ⎟   \n",
       "2       2    2⎞        ⎟   \n",
       " ⋅\\omega  + q ⎠        ⎠   "
      ]
     },
     "execution_count": 196,
     "metadata": {},
     "output_type": "execute_result"
    }
   ],
   "source": [
    "Nv"
   ]
  },
  {
   "cell_type": "code",
   "execution_count": 186,
   "metadata": {},
   "outputs": [
    {
     "data": {
      "image/png": "[encoded data removed]",
      "text/latex": [
       "$\\displaystyle \\frac{\\omega q}{R^{2} \\omega^{2} + q^{2}}$"
      ],
      "text/plain": [
       "    \\omega⋅q   \n",
       "───────────────\n",
       " 2       2    2\n",
       "R ⋅\\omega  + q "
      ]
     },
     "execution_count": 186,
     "metadata": {},
     "output_type": "execute_result"
    }
   ],
   "source": [
    "tau"
   ]
  },
  {
   "cell_type": "code",
   "execution_count": 187,
   "metadata": {},
   "outputs": [
    {
     "data": {
      "image/png": "[encoded data removed]",
      "text/latex": [
       "$\\displaystyle \\sqrt{\\frac{R^{2} \\omega^{4}}{\\left(R^{2} \\omega^{2} + q^{2}\\right)^{2}}}$"
      ],
      "text/plain": [
       "       ____________________\n",
       "      ╱      2       4     \n",
       "     ╱      R ⋅\\omega      \n",
       "    ╱   ────────────────── \n",
       "   ╱                     2 \n",
       "  ╱     ⎛ 2       2    2⎞  \n",
       "╲╱      ⎝R ⋅\\omega  + q ⎠  "
      ]
     },
     "execution_count": 187,
     "metadata": {},
     "output_type": "execute_result"
    }
   ],
   "source": [
    "kappa"
   ]
  },
  {
   "cell_type": "code",
   "execution_count": 188,
   "metadata": {},
   "outputs": [
    {
     "data": {
      "image/png": "[encoded data removed]",
      "text/latex": [
       "$\\displaystyle \\left( \\left(- R \\omega \\sin{\\left(\\omega t \\right)}\\right)\\mathbf{\\hat{i}_{}} + \\left(R \\omega \\cos{\\left(\\omega t \\right)}\\right)\\mathbf{\\hat{j}_{}} + \\left(q\\right)\\mathbf{\\hat{k}_{}}, \\  \\left(- R \\omega^{2} \\cos{\\left(\\omega t \\right)}\\right)\\mathbf{\\hat{i}_{}} + \\left(- R \\omega^{2} \\sin{\\left(\\omega t \\right)}\\right)\\mathbf{\\hat{j}_{}}, \\  \\left(R \\omega^{3} \\sin{\\left(\\omega t \\right)}\\right)\\mathbf{\\hat{i}_{}} + \\left(- R \\omega^{3} \\cos{\\left(\\omega t \\right)}\\right)\\mathbf{\\hat{j}_{}}\\right)$"
      ],
      "text/plain": [
       "⎛(-R⋅\\omega⋅sin(\\omega⋅t)) i_ + (R⋅\\omega⋅cos(\\omega⋅t)) j_ + (q) k_, ⎛       \n",
       "⎝                                                                     ⎝-R⋅\\ome\n",
       "\n",
       "  2              ⎞       ⎛         2              ⎞    , ⎛        3           \n",
       "ga ⋅cos(\\omega⋅t)⎠ i_  + ⎝-R⋅\\omega ⋅sin(\\omega⋅t)⎠ j_   ⎝R⋅\\omega ⋅sin(\\omega\n",
       "\n",
       "   ⎞       ⎛         3              ⎞    ⎞\n",
       "⋅t)⎠ i_  + ⎝-R⋅\\omega ⋅cos(\\omega⋅t)⎠ j_ ⎠"
      ]
     },
     "execution_count": 188,
     "metadata": {},
     "output_type": "execute_result"
    }
   ],
   "source": [
    "v, dv, d2v"
   ]
  },
  {
   "cell_type": "code",
   "execution_count": 191,
   "metadata": {},
   "outputs": [
    {
     "data": {
      "image/png": "[encoded data removed]",
      "text/latex": [
       "$\\displaystyle \\left(R \\omega^{2} q \\sin{\\left(\\omega t \\right)}\\right)\\mathbf{\\hat{i}_{}} + \\left(- R \\omega^{2} q \\cos{\\left(\\omega t \\right)}\\right)\\mathbf{\\hat{j}_{}} + \\left(R^{2} \\omega^{3}\\right)\\mathbf{\\hat{k}_{}}$"
      ],
      "text/plain": [
       "⎛        2                ⎞       ⎛         2                ⎞       ⎛ 2      \n",
       "⎝R⋅\\omega ⋅q⋅sin(\\omega⋅t)⎠ i_  + ⎝-R⋅\\omega ⋅q⋅cos(\\omega⋅t)⎠ j_  + ⎝R ⋅\\omeg\n",
       "\n",
       " 3⎞    \n",
       "a ⎠ k_ "
      ]
     },
     "execution_count": 191,
     "metadata": {},
     "output_type": "execute_result"
    }
   ],
   "source": [
    "v.cross(dv).simplify()"
   ]
  }
 ],
 "metadata": {
  "kernelspec": {
   "display_name": "Python 3",
   "language": "python",
   "name": "python3"
  },
  "language_info": {
   "codemirror_mode": {
    "name": "ipython",
    "version": 3
   },
   "file_extension": ".py",
   "mimetype": "text/x-python",
   "name": "python",
   "nbconvert_exporter": "python",
   "pygments_lexer": "ipython3",
   "version": "3.12.3"
  }
 },
 "nbformat": 4,
 "nbformat_minor": 2
}
